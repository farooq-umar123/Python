{
 "cells": [
  {
   "cell_type": "markdown",
   "id": "72ab1b40-d1d7-459a-b383-064a8eb07f09",
   "metadata": {},
   "source": [
    "### __Conditional Statements:__\n",
    "\n",
    "- _Conditional statements are fundamental programming constructs that allow you to control the flow of your program based on conditions that you specify. They provide a way to make decisions in your program and execute different code based on those decisions._\n",
    "  1. if\n",
    "  2. else\n",
    "  3. elif\n",
    "\n",
    " \n",
    "- __if:__ _An __`if`__ statement is a condition statement used to check a condition, and execute it if the condition holds true. If the condition holds false the compiler skip the output incase else condition statement is not given._\n",
    "\n",
    "  __Note:__ Conditional statament is closed by `colon (:)`\n",
    "\n",
    "___`Example:`___"
   ]
  },
  {
   "cell_type": "code",
   "execution_count": 19,
   "id": "13f169f5-cf6a-479b-b3ff-dc01a2080711",
   "metadata": {},
   "outputs": [],
   "source": [
    "#Program using only if condition the compiler skip output without any error\n",
    "a = 10\n",
    "b = 12\n",
    "if a>b:\n",
    "    print(\"True\")"
   ]
  },
  {
   "cell_type": "markdown",
   "id": "c0d7e8fa-126f-41c8-894e-2f0ecc5d1fa7",
   "metadata": {},
   "source": [
    "- __else:__ _If we want to execute some code if the condition isn't met? We add an `else` statement below the `if` statement. The `if-else` statement is used to execute both the true part and the false part of a given condition. If the condition is true, the if block code is executed and if the condition is false, the else block code is executed._\n",
    "\n",
    "___`Example:`___"
   ]
  },
  {
   "cell_type": "code",
   "execution_count": 22,
   "id": "ac780ba5-1673-457e-9f47-8d2455abf31f",
   "metadata": {},
   "outputs": [
    {
     "name": "stdout",
     "output_type": "stream",
     "text": [
      "False\n"
     ]
    }
   ],
   "source": [
    "#Program using if-else condition statement\n",
    "a = 10\n",
    "b = 12\n",
    "if a>b:\n",
    "    print(\"True\")\n",
    "else:\n",
    "    print(\"False\")"
   ]
  },
  {
   "cell_type": "markdown",
   "id": "f8f4dd80-9585-48a3-8eab-f6c81ce70645",
   "metadata": {},
   "source": [
    "- __elif:__ _elif is short for `\"else if\"` and is used when the first `if` statement isn't true, but you want to check for another condition. Meaning, `if` statements pair up with `elif` and `else` statements to perform a series of checks. A full `if/elif/else` block is in the code._\n",
    "\n",
    "___`Example:`___"
   ]
  },
  {
   "cell_type": "code",
   "execution_count": 25,
   "id": "f04ae614-7881-4abf-8a8c-9dc251ca71d7",
   "metadata": {},
   "outputs": [
    {
     "name": "stdout",
     "output_type": "stream",
     "text": [
      "Number is Greater than 0\n"
     ]
    }
   ],
   "source": [
    "#Program using if/elif/else conditional statements\n",
    "num = 10\n",
    "if num<0:\n",
    "    print(\"Number is less than 0\")\n",
    "elif num==0:\n",
    "    print(\"Number is equal to 0\")\n",
    "else:\n",
    "    print(\"Number is Greater than 0\")"
   ]
  },
  {
   "cell_type": "markdown",
   "id": "bfe90c7e-e8ee-421b-9646-2363e8850440",
   "metadata": {},
   "source": [
    "___`Conditional Statement Programs:`___"
   ]
  },
  {
   "cell_type": "code",
   "execution_count": 49,
   "id": "2cddf2ae-25f7-4613-b09b-5066284ac90a",
   "metadata": {},
   "outputs": [
    {
     "name": "stdin",
     "output_type": "stream",
     "text": [
      "Enter the Character: A\n"
     ]
    },
    {
     "name": "stdout",
     "output_type": "stream",
     "text": [
      "Given character is Vowel\n"
     ]
    }
   ],
   "source": [
    "#Program to find whether the given character is Vowel or Consonent\n",
    "Vowels = ['a', 'e', 'i', 'o', 'u', 'A', 'E', 'I', 'O', 'U',]\n",
    "char = input(\"Enter the Character:\")\n",
    "if char in Vowels:\n",
    "    print(\"Given character is Vowel\")\n",
    "else:\n",
    "    print(\"Given character is Consonent\")"
   ]
  },
  {
   "cell_type": "code",
   "execution_count": 197,
   "id": "caabb0a3-11c9-44ef-92d8-58f01b2bbaf9",
   "metadata": {},
   "outputs": [
    {
     "name": "stdin",
     "output_type": "stream",
     "text": [
      "Enter the Year: 2028\n"
     ]
    },
    {
     "name": "stdout",
     "output_type": "stream",
     "text": [
      "Given Year is Leap Year.\n"
     ]
    }
   ],
   "source": [
    "#Program to find whether the given year is a Leap year or not\n",
    "Year = int(input(\"Enter the Year:\"))\n",
    "if Year%4 == 0:\n",
    "    print(\"Given Year is Leap Year.\")\n",
    "else:\n",
    "    print(\"Given Year is not a Leap Year.\")"
   ]
  },
  {
   "cell_type": "code",
   "execution_count": 61,
   "id": "24648c57-4cdc-4236-a722-447ae960e926",
   "metadata": {},
   "outputs": [
    {
     "name": "stdin",
     "output_type": "stream",
     "text": [
      "Enter Marks: 95\n"
     ]
    },
    {
     "name": "stdout",
     "output_type": "stream",
     "text": [
      "Grade A\n"
     ]
    }
   ],
   "source": [
    "#Program for Grading system\n",
    "Marks = int(input(\"Enter Marks:\"))\n",
    "if Marks>=90 and Marks<=100:\n",
    "    print(\"Grade A\")\n",
    "elif Marks>=80 and Marks<90:\n",
    "    print(\"Grade B\")\n",
    "elif Marks>=70 and Marks<80:\n",
    "    print(\"Grade C\")\n",
    "elif Marks>=60 and Marks<70:\n",
    "    print(\"Grade D\")\n",
    "elif Marks>=50 and Marks<60:\n",
    "    print(\"Below Average\")\n",
    "else:\n",
    "    print(\"Fail\")"
   ]
  },
  {
   "cell_type": "code",
   "execution_count": 137,
   "id": "85395fc3-c248-460b-b680-85f2ab1262bc",
   "metadata": {},
   "outputs": [
    {
     "name": "stdin",
     "output_type": "stream",
     "text": [
      "Enter Number: 5\n"
     ]
    },
    {
     "name": "stdout",
     "output_type": "stream",
     "text": [
      "Given number 5 is odd\n"
     ]
    }
   ],
   "source": [
    "#Program to find whether the given number is even or odd\n",
    "num = int(input(\"Enter Number:\"))\n",
    "if num%2 == 0:\n",
    "    print(\"Given number\", num, \"is Even\")\n",
    "else:\n",
    "    print(\"Given number\", num, \"is odd\")"
   ]
  },
  {
   "cell_type": "code",
   "execution_count": 75,
   "id": "27485d4e-2218-41ba-b39c-fc2695ced152",
   "metadata": {},
   "outputs": [
    {
     "name": "stdin",
     "output_type": "stream",
     "text": [
      "Enter Value a: 25\n",
      "Enter Value b: 46\n",
      "Enter Value c: 95\n"
     ]
    },
    {
     "name": "stdout",
     "output_type": "stream",
     "text": [
      "c is largest\n"
     ]
    }
   ],
   "source": [
    "# 1. Program to find largest of three number\n",
    "a = int(input(\"Enter Value a:\"))\n",
    "b = int(input(\"Enter Value b:\"))\n",
    "c = int(input(\"Enter Value c:\"))\n",
    "if a>b and a>c:\n",
    "    print(\"a is largest\")\n",
    "elif b>a and b>c:\n",
    "    print(\"b is largest\")\n",
    "else:\n",
    "    print(\"c is largest\")"
   ]
  },
  {
   "cell_type": "code",
   "execution_count": 273,
   "id": "35ca6519-0c11-4434-9465-936f17e78e70",
   "metadata": {},
   "outputs": [
    {
     "name": "stdin",
     "output_type": "stream",
     "text": [
      "Enter Number: 25\n"
     ]
    },
    {
     "name": "stdout",
     "output_type": "stream",
     "text": [
      "Given Number is divisible by 5 but not with 11\n"
     ]
    }
   ],
   "source": [
    "# 2. Program to check if a number is divisible by both 5 and 11.\n",
    "num = int(input(\"Enter Number:\"))\n",
    "if num%5 == 0 and num%11 == 0:\n",
    "    print(\"Given Number is divisible by both 5 and 11\")\n",
    "elif num%5 == 0 and num%11 != 0:\n",
    "    print(\"Given Number is divisible by 5 but not with 11\")\n",
    "elif num%5 !=0 and num%11 == 0:\n",
    "    print(\"Given Number is divisible by 11 but not with 5\")\n",
    "else:\n",
    "    print(\"Given Number is not divisible by both 5 and 11\")"
   ]
  },
  {
   "cell_type": "code",
   "execution_count": 132,
   "id": "545faee2-32f3-46d8-a190-f1be06f18f04",
   "metadata": {},
   "outputs": [
    {
     "name": "stdin",
     "output_type": "stream",
     "text": [
      "Enter Value: @\n"
     ]
    },
    {
     "name": "stdout",
     "output_type": "stream",
     "text": [
      "Given Value is digit\n"
     ]
    }
   ],
   "source": [
    "# 3. Program to check whether the input character is an alphabet, digit, or special character.\n",
    "a = input(\"Enter Value:\")\n",
    "if a>='a' and a<='z' or a>='A' and a<='Z':\n",
    "    print(\"Given Value is alphabet\")\n",
    "elif a<='0' or a>'0':\n",
    "    print(\"Given Value is digit\")\n",
    "else:\n",
    "    print(\"Given Value is Special character\")"
   ]
  },
  {
   "cell_type": "code",
   "execution_count": 277,
   "id": "7eb7d77b-c5a4-4b5c-9b28-c29a871791f3",
   "metadata": {},
   "outputs": [
    {
     "name": "stdout",
     "output_type": "stream",
     "text": [
      "It's a Triangle\n"
     ]
    }
   ],
   "source": [
    "# 4. Program to check if three sides can form a valid triangle.\n",
    "'''\n",
    "In a Triangle if we have values a,b,c then\n",
    "Sum of any two sides of a triangle should be greater than the third side\n",
    "'''\n",
    "a = 11\n",
    "b = 15\n",
    "c = 24\n",
    "if a+b>c or a+c>b or b+c>a:\n",
    "    print(\"It's a Triangle\")\n",
    "else:\n",
    "    print(\"It's not a Triangle\")"
   ]
  },
  {
   "cell_type": "code",
   "execution_count": 279,
   "id": "f09eb77a-bf27-4377-b837-041048713014",
   "metadata": {},
   "outputs": [
    {
     "name": "stdout",
     "output_type": "stream",
     "text": [
      "5\n",
      "10\n",
      "2.23606797749979\n"
     ]
    }
   ],
   "source": [
    "# 5. Program to find the absolute value of a number.\n",
    "a = -5\n",
    "b = 10\n",
    "c = 1 + 2j\n",
    "print(abs(a))\n",
    "print(abs(b))\n",
    "print(abs(c))"
   ]
  },
  {
   "cell_type": "code",
   "execution_count": 302,
   "id": "9f20e9db-f5f5-453f-90ad-4483ff663460",
   "metadata": {},
   "outputs": [
    {
     "name": "stdin",
     "output_type": "stream",
     "text": [
      "Enter Year: 1699\n"
     ]
    },
    {
     "name": "stdout",
     "output_type": "stream",
     "text": [
      "17 Century\n"
     ]
    }
   ],
   "source": [
    "# 6. Program to determine whether a given year is a century year or not.\n",
    "year = int(input(\"Enter Year:\"))\n",
    "if year<=100:\n",
    "    print(\"1st Century\")\n",
    "elif year%100 == 0:\n",
    "    print(year//100, \"Century\")\n",
    "else:\n",
    "    print(year//100+1,\"Century\")"
   ]
  },
  {
   "cell_type": "code",
   "execution_count": 235,
   "id": "9584cfc4-61e0-459f-b781-61bc1093c33b",
   "metadata": {},
   "outputs": [
    {
     "name": "stdin",
     "output_type": "stream",
     "text": [
      "Enter Weight: 20\n"
     ]
    },
    {
     "name": "stdout",
     "output_type": "stream",
     "text": [
      "BMI shows Normal Weight\n"
     ]
    }
   ],
   "source": [
    "# 7. Program to determine whether a person’s BMI (Body Mass Index) falls under underweight, normal weight, overweight, or obese categories.\n",
    "BMI = float(input(\"Enter Weight:\"))\n",
    "if BMI<18.5:\n",
    "    print(\"BMI shows Underweight\")\n",
    "elif BMI>=18.5 and BMI<=24.9:\n",
    "    print(\"BMI shows Normal Weight\")\n",
    "elif BMI>=25 and BMI<=29.9:\n",
    "    print(\"BMI shows Over Weight\")\n",
    "else:\n",
    "    print(\"BMI shows Obese\")"
   ]
  },
  {
   "cell_type": "code",
   "execution_count": 312,
   "id": "0257934d-d4b1-4fd0-abb4-0d150d3c432f",
   "metadata": {},
   "outputs": [
    {
     "name": "stdin",
     "output_type": "stream",
     "text": [
      "Enter Character: appLe\n"
     ]
    },
    {
     "name": "stdout",
     "output_type": "stream",
     "text": [
      "Give Character is LowerCase\n"
     ]
    }
   ],
   "source": [
    "# 8. Program to check if a given character is an uppercase or lowercase letter.\n",
    "a = input(\"Enter Character:\")\n",
    "if a>='A' and a<='Z':\n",
    "    print(\"Given Character is UpperCase\")\n",
    "else:\n",
    "    print(\"Give Character is LowerCase\")"
   ]
  },
  {
   "cell_type": "code",
   "execution_count": 314,
   "id": "91e31000-5122-4cdf-a269-5d1db2dc6a3e",
   "metadata": {},
   "outputs": [
    {
     "name": "stdin",
     "output_type": "stream",
     "text": [
      "Enter Value: 25\n"
     ]
    },
    {
     "name": "stdout",
     "output_type": "stream",
     "text": [
      "Given Number is Medium\n"
     ]
    }
   ],
   "source": [
    "# 9. Program to classify a number as small, medium, or large based on given thresholds.\n",
    "small = 10\n",
    "medium = 26\n",
    "large = 54\n",
    "a = int(input(\"Enter Value:\"))\n",
    "if a<=small:\n",
    "    print(\"Given Number is Small\")\n",
    "elif small<a<=medium:\n",
    "    print(\"Given Number is Medium\")\n",
    "elif medium<a<=large:\n",
    "    print(\"Given Number is Large\")"
   ]
  },
  {
   "cell_type": "code",
   "execution_count": 6,
   "id": "c6310e26-1618-45a9-ab4a-b5a8f8082772",
   "metadata": {},
   "outputs": [
    {
     "name": "stdin",
     "output_type": "stream",
     "text": [
      "Value of Side a: 10\n",
      "Value of Side b: 10\n",
      "Value of Side c: 20\n"
     ]
    },
    {
     "name": "stdout",
     "output_type": "stream",
     "text": [
      "It's a Isosceles Triangle\n"
     ]
    }
   ],
   "source": [
    "# 10. Program to determine the type of triangle based on the lengths of its sides (equilateral, isosceles, or scalene).\n",
    "a = int(input(\"Value of Side a:\"))\n",
    "b = int(input(\"Value of Side b:\"))\n",
    "c = int(input(\"Value of Side c:\"))\n",
    "\n",
    "#In an Equilateral Triangle, all the sides of a triangle are of equal length.\n",
    "if a==b and b==c and c==a:\n",
    "     print(\"It's a Equilateral Triangle\")\n",
    "\n",
    "#In an Isosceles Triangle, any two sides of a triangle are of the same measure.\n",
    "elif a==b or b==c or c==a:\n",
    "     print(\"It's a Isosceles Triangle\")\n",
    "\n",
    "#In a scalene triangle, all the sides of a triangle are of different length.\n",
    "else:\n",
    "     print(\"It's a Scalene Triangle\")"
   ]
  },
  {
   "cell_type": "code",
   "execution_count": 290,
   "id": "bb39d40a-a373-40d0-b4ab-34e062a0b563",
   "metadata": {},
   "outputs": [
    {
     "name": "stdin",
     "output_type": "stream",
     "text": [
      "Enter Value: 6309779036\n"
     ]
    },
    {
     "name": "stdout",
     "output_type": "stream",
     "text": [
      "It's a Palindrome 6309779036\n"
     ]
    }
   ],
   "source": [
    "#  11. Program to check if a number is a Palindrome.\n",
    "word = input(\"Enter Value:\")\n",
    "\n",
    "if word == word[::-1]:\n",
    "    print(\"It's a Palindrome\", word)\n",
    "else:\n",
    "    print(\"It's not a Palindrome\", word)"
   ]
  },
  {
   "attachments": {
    "e3dd4d77-26bf-47cd-9613-9434a3a683cc.png": {
     "image/png": "[encoded data removed]"
    }
   },
   "cell_type": "markdown",
   "id": "b3a04661-e0a7-4a5f-9afb-e0e06be806a2",
   "metadata": {},
   "source": [
    "#### __12. Program to determine if a given angle is acute, right, or obtuse.__\n",
    "![image.png](attachment:e3dd4d77-26bf-47cd-9613-9434a3a683cc.png)!"
   ]
  },
  {
   "cell_type": "code",
   "execution_count": 263,
   "id": "c248b12b-6bd8-42c5-a0bc-e82c63b02651",
   "metadata": {},
   "outputs": [
    {
     "name": "stdin",
     "output_type": "stream",
     "text": [
      "Enter Value a: 3\n",
      "Enter Value b: 4\n",
      "Enter Value c: 6\n"
     ]
    },
    {
     "name": "stdout",
     "output_type": "stream",
     "text": [
      "Angles are Obtuse Angle Triangle\n"
     ]
    }
   ],
   "source": [
    "# 12. Program to determine if a given angle is acute, right or obtuse angle\n",
    "a = int(input(\"Enter Value a:\"))\n",
    "b = int(input(\"Enter Value b:\"))\n",
    "c = int(input(\"Enter Value c:\"))\n",
    "if a**2+b**2==c**2:\n",
    "    print(\"Angles are Right Angle Triangle\")\n",
    "elif a**2+b**2<c**2:\n",
    "    print(\"Angles are Obtuse Angle Triangle\")\n",
    "else:\n",
    "    print(\"Angles are Acute Angle Triangle\")"
   ]
  },
  {
   "cell_type": "code",
   "execution_count": 271,
   "id": "87b9e54a-9c64-40f0-878c-03e50e074664",
   "metadata": {},
   "outputs": [
    {
     "name": "stdin",
     "output_type": "stream",
     "text": [
      "Value of c: 54\n"
     ]
    },
    {
     "name": "stdout",
     "output_type": "stream",
     "text": [
      "Sum of two numbers are not equal to third number provided\n"
     ]
    }
   ],
   "source": [
    "# 13. Program to check whether the sum of two numbers is equal to a third number provided by the user.\n",
    "a = 25\n",
    "b = 30\n",
    "c = int(input(\"Value of c:\"))\n",
    "if a+b == c:\n",
    "    print(\"Sum of two numbers are equal to third number provided\")\n",
    "else:\n",
    "    print(\"Sum of two numbers are not equal to third number provided\")"
   ]
  },
  {
   "cell_type": "code",
   "execution_count": null,
   "id": "baf20dfb-6c57-49e5-bf0b-f23e06e37091",
   "metadata": {},
   "outputs": [],
   "source": []
  }
 ],
 "metadata": {
  "kernelspec": {
   "display_name": "Python 3 (ipykernel)",
   "language": "python",
   "name": "python3"
  },
  "language_info": {
   "codemirror_mode": {
    "name": "ipython",
    "version": 3
   },
   "file_extension": ".py",
   "mimetype": "text/x-python",
   "name": "python",
   "nbconvert_exporter": "python",
   "pygments_lexer": "ipython3",
   "version": "3.12.4"
  }
 },
 "nbformat": 4,
 "nbformat_minor": 5
}
