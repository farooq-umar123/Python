{
 "cells": [
  {
   "cell_type": "markdown",
   "id": "ff2ce1a0-4886-45b1-b6cc-a1616d6326ad",
   "metadata": {},
   "source": [
    "## __Python Strings:__"
   ]
  },
  {
   "cell_type": "markdown",
   "id": "c9da88ce-4c56-4153-8465-ab0b424ac0d2",
   "metadata": {},
   "source": [
    "### What is String ?\n",
    "\n",
    "- _In Python, strings are used for representing textual data._\n",
    "- _A string is a sequence of characters enclosed in either `single quotes ('')` or `double quotes (“”)`. `Triple quotes (\"\"\" \"\"\")` can also be used if its is a multi-line string._\n",
    "- _The Python language provides various built-in methods and functionalities to work with strings efficiently._\n",
    "- _It is an immutable data type, which means once a string is created, it cannot be modified._\n",
    "- _However, it is possible to create a new string by concatenating two or more strings._\n",
    "\n",
    "___Creating String:___"
   ]
  },
  {
   "cell_type": "code",
   "execution_count": 12,
   "id": "631c63a7-e07e-4ec0-89a3-47b06ef368a1",
   "metadata": {
    "scrolled": true
   },
   "outputs": [
    {
     "name": "stdout",
     "output_type": "stream",
     "text": [
      "This is a single-quote string <class 'str'>\n",
      "this is a double-quote string <class 'str'>\n",
      " \n",
      "This is a multi-line\n",
      "string\n",
      " <class 'str'>\n"
     ]
    }
   ],
   "source": [
    "str = 'This is a single-quote string'\n",
    "str1 = \"this is a double-quote string\"\n",
    "str2 = \"\"\" \n",
    "This is a multi-line\n",
    "string\n",
    "\"\"\"\n",
    "print(str, type(str))\n",
    "print(str1, type(str1))\n",
    "print(str2, type(str2))"
   ]
  },
  {
   "cell_type": "markdown",
   "id": "d32e5324-2b1d-46e1-8778-6219025cbe3b",
   "metadata": {},
   "source": [
    "### __String Operations:__\n",
    "\n",
    "__1. Concatenation:__\n",
    "\n",
    "- _Combine two or more strings._\n",
    "- _`plus (+)` symbol is used for concatenation._\n",
    "\n",
    "__`Example:`__"
   ]
  },
  {
   "cell_type": "code",
   "execution_count": 70,
   "id": "82d31c51-b53e-4d29-858c-b4f9b06982fa",
   "metadata": {
    "scrolled": true
   },
   "outputs": [
    {
     "name": "stdout",
     "output_type": "stream",
     "text": [
      "Hello, Everyone \n",
      "My name is Umar \n",
      "Student in Teks academy\n",
      "\n"
     ]
    }
   ],
   "source": [
    "str_com0  = 'Hello, Everyone \\n'\n",
    "str_com1 = 'My name is Umar \\n'\n",
    "str_com2 = 'Student in Teks academy\\n'\n",
    "str_combine = str_com0 + str_com1 + str_com2\n",
    "print(str_combine)"
   ]
  },
  {
   "cell_type": "markdown",
   "id": "c0213e1a-da75-49a8-a97d-f97da839a92b",
   "metadata": {},
   "source": [
    "__2. Repetition:__\n",
    "\n",
    "- _The `* operator` also works on strings._\n",
    "- _It performs repetition. For example, `'Fun'*3` is `'FunFunFun'`._\n",
    "- _One of the operands has to be a string and the other has to be an integer.._\n",
    "\n",
    "__`Example:`__"
   ]
  },
  {
   "cell_type": "code",
   "execution_count": 72,
   "id": "c1457928-fe27-4415-853e-5f91a0c0ac3a",
   "metadata": {
    "scrolled": true
   },
   "outputs": [
    {
     "name": "stdout",
     "output_type": "stream",
     "text": [
      "Hello, Example of Repetition. \n",
      "Hello, Example of Repetition. \n",
      "Hello, Example of Repetition. \n",
      "Hello, Example of Repetition. \n",
      "Hello, Example of Repetition. \n",
      "\n",
      "Hello, Everyone \n",
      "Hello, Everyone \n",
      "Hello, Everyone \n",
      "Hello, Everyone \n",
      "Hello, Everyone \n",
      "\n",
      "My name is Umar \n",
      "My name is Umar \n",
      "My name is Umar \n",
      "My name is Umar \n",
      "My name is Umar \n",
      "\n",
      "Student in Teks academy\n",
      "Student in Teks academy\n",
      "Student in Teks academy\n",
      "Student in Teks academy\n",
      "Student in Teks academy\n",
      "\n"
     ]
    }
   ],
   "source": [
    "str = \"Hello, Example of Repetition. \\n\" #here \\n (backslash n) is given to repeat the string in new line\n",
    "str_repeat = str * 5\n",
    "print(str_repeat)\n",
    "a = str_com0 * 5\n",
    "print(a)\n",
    "b = str_com1 * 5\n",
    "print(b)\n",
    "c = str_com2 * 5\n",
    "print(c)"
   ]
  },
  {
   "cell_type": "markdown",
   "id": "c1ef631f-6317-4520-a85a-c7f4e2616458",
   "metadata": {},
   "source": [
    "__3. Indexing:__\n",
    "\n",
    "- _Indexing allows you to access individual characters in a string directly by using a numeric value._\n",
    "- _String indexing is zero-based: the first character in the string has index 0, the next is 1, and so on._\n",
    "- _The index of a string's first character is 0 , and the index of a string's last character is the length of the string minus 1_"
   ]
  },
  {
   "cell_type": "code",
   "execution_count": 47,
   "id": "918f08c7-e3a8-4ba4-876d-6d14c1cffae4",
   "metadata": {
    "scrolled": true
   },
   "outputs": [
    {
     "name": "stdout",
     "output_type": "stream",
     "text": [
      "n\n",
      "a\n"
     ]
    }
   ],
   "source": [
    "language = \"Python is easy to learn\"\n",
    "index_lang = language[5]\n",
    "print(index_lang)\n",
    "index_lang1 = language[-3]\n",
    "print(index_lang1)"
   ]
  },
  {
   "cell_type": "markdown",
   "id": "2a34d960-fb5d-469d-b83e-e56e90a657e3",
   "metadata": {},
   "source": [
    "__4. Slicing:__\n",
    "\n",
    "- _String slicing in Python allows you to extract a portion of a string by specifying a start and end index._\n",
    "- _It follows the format string `[start:end]`, where start is the index where slicing begins and end is the index where it ends._"
   ]
  },
  {
   "cell_type": "code",
   "execution_count": 51,
   "id": "f9a2ca36-4fec-43f7-8e82-26dfe7822d2b",
   "metadata": {},
   "outputs": [
    {
     "name": "stdout",
     "output_type": "stream",
     "text": [
      "slicing in Python\n"
     ]
    }
   ],
   "source": [
    "slice = \"String slicing in Python allows you to extract a portion\"\n",
    "new_slice = slice[7:24]\n",
    "print(new_slice)"
   ]
  },
  {
   "cell_type": "markdown",
   "id": "d4f2c5d2-cc80-4d6b-ba23-54339c61cd4c",
   "metadata": {},
   "source": [
    "___Creating string with 500 characters:___"
   ]
  },
  {
   "cell_type": "code",
   "execution_count": 110,
   "id": "0e331d5a-708f-4327-b5c1-fe2c2e1422dd",
   "metadata": {},
   "outputs": [
    {
     "name": "stdout",
     "output_type": "stream",
     "text": [
      "552\n"
     ]
    }
   ],
   "source": [
    "string_500char = \"\"\"\n",
    "Python is a general-purpose programming language that can be used for many tasks, such as building websites, analyzing data, and automating tasks. \n",
    "It is considered a good choice for both beginners and advanced programmers. Easy to learn and has a large user community, making it easy to find solutions to problems.\n",
    "Python is a dynamic, interpreted language that doesn't require type declarations for variables, parameters, functions, or methods. \n",
    "This makes the code short and flexible, but it also means that there is no compile-time type checking.\n",
    "\"\"\"\n",
    "print(len(string_500char))"
   ]
  },
  {
   "cell_type": "markdown",
   "id": "224b1e3d-770e-434b-9c4a-d9f47148123a",
   "metadata": {},
   "source": [
    "__`Example:`__ Indexing and slicing with 500 characters string."
   ]
  },
  {
   "cell_type": "code",
   "execution_count": 98,
   "id": "57e141ae-81bd-4fd5-994a-5aa01092e6e8",
   "metadata": {
    "scrolled": true
   },
   "outputs": [
    {
     "name": "stdout",
     "output_type": "stream",
     "text": [
      "u\n",
      "e\n",
      "e\n",
      "a\n",
      "a\n",
      "r\n",
      "m\n",
      " \n",
      ",\n",
      "e\n"
     ]
    }
   ],
   "source": [
    "#Indexing\n",
    "\n",
    "print(string_500char[21])\n",
    "print(string_500char[47])\n",
    "print(string_500char[105])\n",
    "print(string_500char[129])\n",
    "print(string_500char[201])\n",
    "print(string_500char[249])\n",
    "print(string_500char[311])\n",
    "print(string_500char[395])\n",
    "print(string_500char[409])\n",
    "print(string_500char[418])"
   ]
  },
  {
   "cell_type": "code",
   "execution_count": 89,
   "id": "5e8fb9b0-3e0d-4ae3-a4e6-5b85a16447ac",
   "metadata": {
    "scrolled": true
   },
   "outputs": [
    {
     "name": "stdout",
     "output_type": "stream",
     "text": [
      "general-purpose\n",
      "programming language \n",
      "used for many tasks, such as building websites,\n",
      "considered a good choice for both beginners and advanced\n",
      "This makes the code short and flexible\n"
     ]
    }
   ],
   "source": [
    "# Slicing\n",
    "\n",
    "a = string_500char[12:27]\n",
    "print(a)\n",
    "b = string_500char[28:49]\n",
    "print(b)\n",
    "c = string_500char[61:108]\n",
    "print(c)\n",
    "d = string_500char[154:210]\n",
    "print(d)\n",
    "e = string_500char[447:485]\n",
    "print(e)"
   ]
  },
  {
   "cell_type": "markdown",
   "id": "7ed8d872-bba9-433f-890a-2b26f4d9531a",
   "metadata": {},
   "source": [
    "## __Python - Format - Strings__"
   ]
  },
  {
   "cell_type": "markdown",
   "id": "2d15e80d-762c-481d-a55d-de0bf4dd474d",
   "metadata": {},
   "source": [
    "### __Strings have three format methods as below:__\n",
    "\n",
    "___`Method 1:`___\n",
    "\n",
    "- Old Style Formatting `(% Operator)`\n",
    "    * This format uses the form of format_string % data\n",
    "    * The `% symbol` is used in Python with a large variety of data types and configurations.\n",
    "    * `%d:` stands for – `integer`.\n",
    "    * `%f:` stands for – `float`.\n",
    "    * `%s:` stands for – `string`.\n",
    "\n",
    "___Example:___"
   ]
  },
  {
   "cell_type": "code",
   "execution_count": 133,
   "id": "e38d636f-f70f-42e5-9b91-a635a6d87498",
   "metadata": {
    "scrolled": true
   },
   "outputs": [
    {
     "name": "stdout",
     "output_type": "stream",
     "text": [
      "My Name is Umar, i am 25 years old and my height is 5.7\n"
     ]
    }
   ],
   "source": [
    "name = 'Umar'\n",
    "age = 25\n",
    "height = 5.7\n",
    "print('My Name is %s, i am %d years old and my height is %.1f' % (name, age, height))"
   ]
  },
  {
   "cell_type": "markdown",
   "id": "0e401f10-c978-4149-8922-97ec5ba04dae",
   "metadata": {},
   "source": [
    "___`Method 2:`___\n",
    "\n",
    "- `Format()` Method\n",
    "  * The format() method formats the specified value(s) and insert them inside the string's placeholder.\n",
    "  * The placeholder is defined using `curly brackets: {}`.\n",
    "    - The placeholders can be identified using `named indexes {price}`, `numbered indexes {0}`, or even `empty placeholders {}`.\n",
    "  * The format() method returns the formatted string.\n",
    " \n",
    "___Example:___"
   ]
  },
  {
   "cell_type": "code",
   "execution_count": 172,
   "id": "3d928a04-d3d3-40d8-a8f0-a7f51a238446",
   "metadata": {
    "scrolled": true
   },
   "outputs": [
    {
     "name": "stdout",
     "output_type": "stream",
     "text": [
      "My Name is Umar, I'm 25 year's old and my height is 5.7\n",
      "My name is Umar, I'm 25 year's old\n",
      "My name is Umar, I'm 25 year's old and my height is 5.7\n",
      "My name is Umar, I'm 25 year's old\n"
     ]
    }
   ],
   "source": [
    "'''\n",
    "Values are given in the variables and \n",
    "the placeholders are empty {} in string and values are passed to placeholders in .format()\n",
    "'''\n",
    "name = \"Umar\"\n",
    "age = 25\n",
    "height = 5.7\n",
    "About_me = \"My Name is {}, I'm {} year's old and my height is {}\".format(name, age, height)\n",
    "\n",
    "#here the variable names are given in placeholder like fname, age and values are given to the variables in .format()\n",
    "named_indexes = \"My name is {fname}, I'm {age} year's old\".format(fname = \"Umar\", age = 25)\n",
    "\n",
    "#here the index of the value is given in placeholder like 0,1,2 and the value of index is given in .format()\n",
    "numbered_indexes = \"My name is {0}, I'm {1} year's old and my height is {2}\".format(\"Umar\",25, 5.7)\n",
    "\n",
    "#here the [laceholders are empty and the value is directly passed to placeholders from .format()\n",
    "empty_placeholder = \"My name is {}, I'm {} year's old\".format(\"Umar\",25)\n",
    "\n",
    "print(About_me)\n",
    "print(named_indexes)\n",
    "print(numbered_indexes)\n",
    "print(empty_placeholder)\n"
   ]
  },
  {
   "cell_type": "markdown",
   "id": "29f5a14c-7f79-4e2f-a9c7-8845ca1f8752",
   "metadata": {},
   "source": [
    "___`Method 3:`___\n",
    "\n",
    "- String Interpolation (`f-string` - Python 3.6 and later)\n",
    "    * _F-string is a way to format strings in Python. It was introduced in Python 3.6 and aims to make it easier for users to add variables, comma separators, do padding with zeros and date format._\n",
    "    * _Uses f-string, where expressions are inside curly braces {} are evaluated and replaced._\n",
    " \n",
    "___Example:___ "
   ]
  },
  {
   "cell_type": "code",
   "execution_count": 174,
   "id": "23e14967-b93e-4d63-b38c-11d1137e0ae8",
   "metadata": {
    "scrolled": true
   },
   "outputs": [
    {
     "name": "stdout",
     "output_type": "stream",
     "text": [
      "My name is Umar, i am 26 year's old and i am from Hyderabad\n"
     ]
    }
   ],
   "source": [
    "name = \"Umar\"\n",
    "age = 26\n",
    "location = \"Hyderabad\"\n",
    "intro = f\"My name is {name}, i am {age} year's old and i am from {location}\"\n",
    "print(intro)"
   ]
  },
  {
   "cell_type": "markdown",
   "id": "132d18c6-4700-4294-9f64-6778af62d634",
   "metadata": {},
   "source": [
    "## __String Methods:__"
   ]
  },
  {
   "cell_type": "markdown",
   "id": "df9ae00b-c9e4-4f2c-a8f4-3e2472369862",
   "metadata": {},
   "source": [
    "__`1. len()`__\n",
    "- Returns the length of a string. "
   ]
  },
  {
   "cell_type": "code",
   "execution_count": 191,
   "id": "773e52da-cc46-4caa-b23e-d8f5400761c0",
   "metadata": {},
   "outputs": [
    {
     "name": "stdout",
     "output_type": "stream",
     "text": [
      "16\n"
     ]
    }
   ],
   "source": [
    "lenmethod = \"Welcome to India\"\n",
    "length = len(lenmethod)\n",
    "print(length)"
   ]
  },
  {
   "cell_type": "markdown",
   "id": "365c3a82-78b2-407e-af9e-ccb3c28cffaf",
   "metadata": {},
   "source": [
    "__`2. lower()`__\n",
    "- Converts uppercase values to lowercase values."
   ]
  },
  {
   "cell_type": "code",
   "execution_count": 193,
   "id": "1fee055a-327e-4933-a24c-e1ad7db609e6",
   "metadata": {},
   "outputs": [
    {
     "name": "stdout",
     "output_type": "stream",
     "text": [
      "hello everyone\n"
     ]
    }
   ],
   "source": [
    "lowermethod = \"HELLO EVERYONE\"\n",
    "lower = lowermethod.lower()\n",
    "print(lower)"
   ]
  },
  {
   "cell_type": "markdown",
   "id": "b55fc362-51e2-46ff-bc1a-952e631e5343",
   "metadata": {},
   "source": [
    "__`3. upper()`__\n",
    "- Converts lowercase values to uppercase values."
   ]
  },
  {
   "cell_type": "code",
   "execution_count": 195,
   "id": "3eef0cae-3b2b-42b4-a6c4-1e2bcc05ca2d",
   "metadata": {},
   "outputs": [
    {
     "name": "stdout",
     "output_type": "stream",
     "text": [
      "HELLO EVERYONE\n"
     ]
    }
   ],
   "source": [
    "uppermethod = \"HELLO EVERYONE\"\n",
    "upper = uppermethod.upper()\n",
    "print(upper)"
   ]
  },
  {
   "cell_type": "markdown",
   "id": "e85c29f3-04e6-4b82-bd9a-66111b128a88",
   "metadata": {},
   "source": [
    "__`4. strip()`__\n",
    "- Removes leading and trailing whitespaces.\n",
    "- It does not remove whitespaces between the string only before and after the string whitespaces are removed."
   ]
  },
  {
   "cell_type": "code",
   "execution_count": 201,
   "id": "674873fb-9652-43f5-921d-9be2e7f526ab",
   "metadata": {},
   "outputs": [
    {
     "name": "stdout",
     "output_type": "stream",
     "text": [
      "Hello    World\n"
     ]
    }
   ],
   "source": [
    "stripmethod = \"    Hello    World    \" \n",
    "#here the compiler removes the whitespaces before Hello and whitespaces after World not the whitespace between Hello World\n",
    "strip = stripmethod.strip()\n",
    "print(strip)"
   ]
  },
  {
   "cell_type": "markdown",
   "id": "546d774f-128e-41ef-9b55-58db1d50c2f2",
   "metadata": {},
   "source": [
    "__`5. replace()`__\n",
    "- Replaces a substring with another substring.\n",
    "- Not only word can be replaced but any character of anyword in the string can be replaced."
   ]
  },
  {
   "cell_type": "code",
   "execution_count": 215,
   "id": "4567a962-b8a2-4457-854d-4efabcc010a4",
   "metadata": {},
   "outputs": [
    {
     "name": "stdout",
     "output_type": "stream",
     "text": [
      "Hello, My name is Smith\n",
      "Hello, My name is DaveSmith\n"
     ]
    }
   ],
   "source": [
    "replacemethod = \"Hello, My name is Dave\"\n",
    "replace = replacemethod.replace(\"Dave\", \"Smith\")\n",
    "print(replace)\n",
    "\n",
    "replacemethod1 = \"Hello, My name is Daved\"\n",
    "replace1 = replacemethod1.replace(\"d\", \"Smith\")\n",
    "print(replace1)"
   ]
  },
  {
   "cell_type": "markdown",
   "id": "b82497c6-6f6b-4767-8164-c6b873ece136",
   "metadata": {},
   "source": [
    "__`6. split()`__\n",
    "- Split the string into a substring in the form of lists."
   ]
  },
  {
   "cell_type": "code",
   "execution_count": 218,
   "id": "74e2ebfa-82ec-405d-8f56-d3777f1d416f",
   "metadata": {},
   "outputs": [
    {
     "name": "stdout",
     "output_type": "stream",
     "text": [
      "['Python', 'is', 'an', 'easy', 'programming', 'language']\n"
     ]
    }
   ],
   "source": [
    "splitmethod = \"Python is an easy programming language\"\n",
    "split = splitmethod.split()\n",
    "print(split)"
   ]
  },
  {
   "cell_type": "markdown",
   "id": "d92cbc33-bc97-4d88-a3bc-85aadfe55962",
   "metadata": {},
   "source": [
    "__`7. join()`__\n",
    "- Join a list of strings into a single string. "
   ]
  },
  {
   "cell_type": "code",
   "execution_count": 223,
   "id": "d66c72fd-c7ec-4ac8-8eeb-24dfc46024af",
   "metadata": {},
   "outputs": [
    {
     "name": "stdout",
     "output_type": "stream",
     "text": [
      "Python is an easy programming language\n"
     ]
    }
   ],
   "source": [
    "joinmethod = ['Python', 'is', 'an', 'easy', 'programming', 'language']\n",
    "join = ' '.join(joinmethod)\n",
    "print(join)"
   ]
  },
  {
   "cell_type": "markdown",
   "id": "337630e7-6374-4908-99ad-789b7a75c2b0",
   "metadata": {},
   "source": [
    "__`8. capitalize()`__\n",
    "- Converts first character of a string into uppercase."
   ]
  },
  {
   "cell_type": "code",
   "execution_count": 226,
   "id": "df8eeee8-8d7d-4765-b453-a5e35e3c9132",
   "metadata": {},
   "outputs": [
    {
     "name": "stdout",
     "output_type": "stream",
     "text": [
      "Python is an easy programming language\n"
     ]
    }
   ],
   "source": [
    "capmethod = \"python is an easy programming language\"\n",
    "a = capmethod.capitalize()\n",
    "print(a)"
   ]
  },
  {
   "cell_type": "markdown",
   "id": "a881bab2-0d07-4764-8c70-f8440f3dd744",
   "metadata": {},
   "source": [
    "__`9. casefold()`__\n",
    "- Converts the string into lowercase."
   ]
  },
  {
   "cell_type": "code",
   "execution_count": 231,
   "id": "2c56d0bd-d4c5-47f5-9e29-cd42b26e7751",
   "metadata": {},
   "outputs": [
    {
     "name": "stdout",
     "output_type": "stream",
     "text": [
      "hello, my name is dave\n"
     ]
    }
   ],
   "source": [
    "cfmethod = \"HELLO, MY NAME IS DAVE\"\n",
    "a = cfmethod.casefold()\n",
    "print(a)"
   ]
  },
  {
   "cell_type": "markdown",
   "id": "8e76d79a-221f-41df-9138-13b4c16d0995",
   "metadata": {},
   "source": [
    "__`10. center()`__\n",
    "- Centers the string in a field of a given width."
   ]
  },
  {
   "cell_type": "code",
   "execution_count": 238,
   "id": "f5cc5775-d93e-47c3-971d-7481861ea30e",
   "metadata": {},
   "outputs": [
    {
     "name": "stdout",
     "output_type": "stream",
     "text": [
      "**********Welcome to India**********\n"
     ]
    }
   ],
   "source": [
    "cenmethod = \"Welcome to India\"\n",
    "a = cenmethod.center(36,'*')\n",
    "print(a)"
   ]
  },
  {
   "cell_type": "markdown",
   "id": "288ce127-aff7-4a49-a655-fabd538492fe",
   "metadata": {},
   "source": [
    "__`11. count()`__\n",
    "- Returns the number of occurences of a substring any characters of substrings."
   ]
  },
  {
   "cell_type": "code",
   "execution_count": 269,
   "id": "29bac081-527b-49cc-9dd3-1d4076052bfa",
   "metadata": {},
   "outputs": [
    {
     "name": "stdout",
     "output_type": "stream",
     "text": [
      "6\n"
     ]
    }
   ],
   "source": [
    "cntmethod = \"I've been there many a time.\"\n",
    "a = cntmethod.count('e')\n",
    "print(a)"
   ]
  },
  {
   "cell_type": "markdown",
   "id": "3f93c73c-a1ec-4fa7-8da8-793c65bd6b74",
   "metadata": {},
   "source": [
    "__`12. encode()`__\n",
    "- Encode the string using a specified encoding."
   ]
  },
  {
   "cell_type": "code",
   "execution_count": 264,
   "id": "89fc18a2-8029-45a0-a516-66ea0ca07cb9",
   "metadata": {},
   "outputs": [
    {
     "name": "stdout",
     "output_type": "stream",
     "text": [
      "b'hello'\n"
     ]
    }
   ],
   "source": [
    "a = \"hello\"\n",
    "print(a.encode('utf-8'))"
   ]
  },
  {
   "cell_type": "markdown",
   "id": "5be0c9a5-0180-4628-bb9c-eb27f0e83c44",
   "metadata": {},
   "source": [
    "__`13. endswith()`__\n",
    "- Checks if the given string ends with a specified value.\n",
    "- The value might be a substring or the character of a substring."
   ]
  },
  {
   "cell_type": "code",
   "execution_count": 276,
   "id": "6063caa0-9421-423c-b61c-7382a51cfc4d",
   "metadata": {},
   "outputs": [
    {
     "name": "stdout",
     "output_type": "stream",
     "text": [
      "True\n"
     ]
    }
   ],
   "source": [
    "ewmethod = \"My name is Dave\"\n",
    "a = ewmethod.endswith('e')\n",
    "print(a)"
   ]
  },
  {
   "cell_type": "markdown",
   "id": "c67e9c63-7afc-44d4-8645-f1e82b4c96da",
   "metadata": {},
   "source": [
    "__`14. Expandtabs()`__\n",
    "- Replaces tabs with spaces by using `\\t` and specified value."
   ]
  },
  {
   "cell_type": "code",
   "execution_count": 452,
   "id": "112f0add-33c2-4931-9858-a3a3f59879dd",
   "metadata": {},
   "outputs": [
    {
     "name": "stdout",
     "output_type": "stream",
     "text": [
      "My  name    is  Dave\n"
     ]
    }
   ],
   "source": [
    "exptmethod = \"My\\tname\\tis\\tDave\"\n",
    "a = exptmethod.expandtabs(4)\n",
    "print(a)"
   ]
  },
  {
   "cell_type": "markdown",
   "id": "3310e82a-712d-42e1-a728-9aeb3ee50090",
   "metadata": {},
   "source": [
    "__`15. find()`__\n",
    "- Finds the first occurance of a substring or character of a substring and returns its position."
   ]
  },
  {
   "cell_type": "code",
   "execution_count": 294,
   "id": "604e5482-bbe2-461b-9feb-f6f6f47eeca3",
   "metadata": {},
   "outputs": [
    {
     "name": "stdout",
     "output_type": "stream",
     "text": [
      "4\n",
      "11\n"
     ]
    }
   ],
   "source": [
    "fndmethod = \"My name is Dave\"\n",
    "a = fndmethod.find('a') #specified value is character of a substring\n",
    "b = fndmethod.find('Dave') #specified value is a substring\n",
    "print(a)\n",
    "print(b)"
   ]
  },
  {
   "cell_type": "markdown",
   "id": "ba118e25-f6bc-40a5-89fa-676ec852abd2",
   "metadata": {},
   "source": [
    "__`16. format()`__\n",
    "- Formats the string with a specified value."
   ]
  },
  {
   "cell_type": "code",
   "execution_count": 297,
   "id": "dcc149fb-02cc-4dd7-b561-0f97f1fbf98f",
   "metadata": {},
   "outputs": [
    {
     "name": "stdout",
     "output_type": "stream",
     "text": [
      "Hello, Welcome to India\n"
     ]
    }
   ],
   "source": [
    "frmtmethod = \"Hello, {}\"\n",
    "a = frmtmethod.format(\"Welcome to India\")\n",
    "print(a)"
   ]
  },
  {
   "cell_type": "markdown",
   "id": "d77148b8-0957-443c-bf39-89ae2e0149f5",
   "metadata": {},
   "source": [
    "__`17. format_map()`__\n",
    "- Formats the string with specified values from a mapping object."
   ]
  },
  {
   "cell_type": "code",
   "execution_count": 307,
   "id": "16d52aa5-3ead-4410-9e93-9681163e19f3",
   "metadata": {},
   "outputs": [
    {
     "name": "stdout",
     "output_type": "stream",
     "text": [
      "Hello Dave, Welcome to India\n"
     ]
    }
   ],
   "source": [
    "frmtmapmethod = \"Hello {name}, Welcome to {country}\"\n",
    "a = frmtmapmethod.format_map({\"name\":\"Dave\", \"country\":\"India\"})\n",
    "print(a)"
   ]
  },
  {
   "cell_type": "markdown",
   "id": "b292afe6-8a6b-40ce-bed7-ee9b381d64bd",
   "metadata": {},
   "source": [
    "__`18. index()`__\n",
    "- Finds the first occurrence of a substring and returns its position. Raises an error if not found."
   ]
  },
  {
   "cell_type": "code",
   "execution_count": 312,
   "id": "00b34a4d-8978-4dc6-9479-37fbad254030",
   "metadata": {},
   "outputs": [
    {
     "name": "stdout",
     "output_type": "stream",
     "text": [
      "6\n"
     ]
    }
   ],
   "source": [
    "indexmethod = \"Hello Dave\"\n",
    "a = indexmethod.index('D')\n",
    "print(a)"
   ]
  },
  {
   "cell_type": "code",
   "execution_count": 314,
   "id": "0c5fa1c0-caa2-46aa-ac4b-84a54911f827",
   "metadata": {},
   "outputs": [
    {
     "ename": "ValueError",
     "evalue": "substring not found",
     "output_type": "error",
     "traceback": [
      "\u001b[1;31m---------------------------------------------------------------------------\u001b[0m",
      "\u001b[1;31mValueError\u001b[0m                                Traceback (most recent call last)",
      "Cell \u001b[1;32mIn[314], line 2\u001b[0m\n\u001b[0;32m      1\u001b[0m indexmethod \u001b[38;5;241m=\u001b[39m \u001b[38;5;124m\"\u001b[39m\u001b[38;5;124mHello Dave\u001b[39m\u001b[38;5;124m\"\u001b[39m\n\u001b[1;32m----> 2\u001b[0m a \u001b[38;5;241m=\u001b[39m indexmethod\u001b[38;5;241m.\u001b[39mindex(\u001b[38;5;124m'\u001b[39m\u001b[38;5;124md\u001b[39m\u001b[38;5;124m'\u001b[39m)\n\u001b[0;32m      3\u001b[0m \u001b[38;5;28mprint\u001b[39m(a)\n",
      "\u001b[1;31mValueError\u001b[0m: substring not found"
     ]
    }
   ],
   "source": [
    "indexmethod = \"Hello Dave\"\n",
    "a = indexmethod.index('d')\n",
    "print(a)"
   ]
  },
  {
   "cell_type": "markdown",
   "id": "2b854563-3c10-436a-a759-845e41f3aa38",
   "metadata": {},
   "source": [
    "__`19. title()`__\n",
    "- Converts first character of each word to uppercase."
   ]
  },
  {
   "cell_type": "code",
   "execution_count": 318,
   "id": "62e9e4b5-2bcb-42c1-aec1-5906b4183bb0",
   "metadata": {},
   "outputs": [
    {
     "name": "stdout",
     "output_type": "stream",
     "text": [
      "Welcome To Data Science\n"
     ]
    }
   ],
   "source": [
    "titlemethod = \"welcome to data science\"\n",
    "a = titlemethod.title()\n",
    "print(a)"
   ]
  },
  {
   "cell_type": "markdown",
   "id": "cb1426f3-cc1e-4bea-99a8-28f052dd4bcf",
   "metadata": {},
   "source": [
    "__`20. isalnum()`__\n",
    "- Checks if all characters are alphanumeric.\n",
    "- It considers individual numbers or alphabets or alphanum."
   ]
  },
  {
   "cell_type": "code",
   "execution_count": 322,
   "id": "fa176c24-0c24-4ef6-a6e4-f37561d8d886",
   "metadata": {},
   "outputs": [
    {
     "name": "stdout",
     "output_type": "stream",
     "text": [
      "True\n"
     ]
    }
   ],
   "source": [
    "isalnummethod = \"abc123\"\n",
    "a = isalnummethod.isalnum()\n",
    "print(a)"
   ]
  },
  {
   "cell_type": "code",
   "execution_count": 324,
   "id": "0eed3e92-4641-4d34-8035-23c84ebc3ebb",
   "metadata": {},
   "outputs": [
    {
     "name": "stdout",
     "output_type": "stream",
     "text": [
      "True\n"
     ]
    }
   ],
   "source": [
    "isalnummethod = \"123\"\n",
    "a = isalnummethod.isalnum()\n",
    "print(a)"
   ]
  },
  {
   "cell_type": "markdown",
   "id": "1bf8e7fe-add3-4914-9499-085b6c99c66a",
   "metadata": {},
   "source": [
    "__`21. isalpha()`__\n",
    "- Checks if all characters are alphabets.\n",
    "- This method will not consider numbers or special characters."
   ]
  },
  {
   "cell_type": "code",
   "execution_count": 328,
   "id": "562822f8-b435-4cee-8fee-3f36aa466692",
   "metadata": {},
   "outputs": [
    {
     "name": "stdout",
     "output_type": "stream",
     "text": [
      "True\n"
     ]
    }
   ],
   "source": [
    "isalphamethod = \"Umar\"\n",
    "a = isalphamethod.isalpha()\n",
    "print(a)"
   ]
  },
  {
   "cell_type": "code",
   "execution_count": 330,
   "id": "3274a4d4-2a3e-46bb-8125-07f9b2a8ff5a",
   "metadata": {},
   "outputs": [
    {
     "name": "stdout",
     "output_type": "stream",
     "text": [
      "False\n"
     ]
    }
   ],
   "source": [
    "isalphamethod = \"@#$%\"\n",
    "a = isalphamethod.isalpha()\n",
    "print(a)"
   ]
  },
  {
   "cell_type": "code",
   "execution_count": 333,
   "id": "fe1e492a-8490-4ac2-b0ba-60d89d60f7dd",
   "metadata": {},
   "outputs": [
    {
     "name": "stdout",
     "output_type": "stream",
     "text": [
      "False\n"
     ]
    }
   ],
   "source": [
    "isalphamethod = \"12345\"\n",
    "a = isalphamethod.isalpha()\n",
    "print(a)"
   ]
  },
  {
   "cell_type": "markdown",
   "id": "81a640f6-0cf3-4eec-8d54-f91f7f4f5308",
   "metadata": {},
   "source": [
    "__`22. isdecimal()`__\n",
    "- Checks if all characters are decimal digits."
   ]
  },
  {
   "cell_type": "code",
   "execution_count": 403,
   "id": "91d1bba6-93ea-48c8-9ef6-a4498dbff44d",
   "metadata": {},
   "outputs": [
    {
     "name": "stdout",
     "output_type": "stream",
     "text": [
      "True\n"
     ]
    }
   ],
   "source": [
    "isdecimalmethod = \"123456789\"\n",
    "a = isdecimalmethod.isdecimal()\n",
    "print(a)"
   ]
  },
  {
   "cell_type": "code",
   "execution_count": 340,
   "id": "17bc09a7-bcd2-4cb3-954d-6382a96fd476",
   "metadata": {},
   "outputs": [
    {
     "name": "stdout",
     "output_type": "stream",
     "text": [
      "False\n"
     ]
    }
   ],
   "source": [
    "isdecimalmethod = \"sdfhdsSJGVIDS\"\n",
    "a = isdecimalmethod.isdecimal()\n",
    "print(a)"
   ]
  },
  {
   "cell_type": "markdown",
   "id": "e85a34c4-447c-490a-96e3-277d51190dd3",
   "metadata": {},
   "source": [
    "__`23. isdigit()`__\n",
    "- Checks if all characters sre digits."
   ]
  },
  {
   "cell_type": "code",
   "execution_count": 347,
   "id": "336352f9-15bc-4df8-988c-87a5d24503e2",
   "metadata": {},
   "outputs": [
    {
     "name": "stdout",
     "output_type": "stream",
     "text": [
      "True\n"
     ]
    }
   ],
   "source": [
    "isdigitmethod = \"123456789\"\n",
    "a = isdigitmethod.isdigit()\n",
    "print(a)"
   ]
  },
  {
   "cell_type": "code",
   "execution_count": 349,
   "id": "ceacd9a6-ca93-4e7e-951f-edcd23f5b1bc",
   "metadata": {},
   "outputs": [
    {
     "name": "stdout",
     "output_type": "stream",
     "text": [
      "False\n"
     ]
    }
   ],
   "source": [
    "isdigitmethod = \"31654654sdkfSFDDBNHDHJ\"\n",
    "a = isdigitmethod.isdigit()\n",
    "print(a)"
   ]
  },
  {
   "cell_type": "markdown",
   "id": "1c87974e-5dd7-49af-9ed1-c1b07d257e4a",
   "metadata": {},
   "source": [
    "__`24. isascii()`__\n",
    "- Checks if all characters are ASCII."
   ]
  },
  {
   "cell_type": "code",
   "execution_count": 352,
   "id": "856316c6-fbcf-4202-80ea-8d54cb0059f0",
   "metadata": {},
   "outputs": [
    {
     "name": "stdout",
     "output_type": "stream",
     "text": [
      "True\n"
     ]
    }
   ],
   "source": [
    "isasciimethod = \"hello\"\n",
    "a = isasciimethod.isascii()\n",
    "print(a)"
   ]
  },
  {
   "cell_type": "markdown",
   "id": "9e9af826-a2f3-4488-83b8-7b7a138054c9",
   "metadata": {},
   "source": [
    "__`25. isidentifier()`__\n",
    "- Checks if the string is a valid identifier."
   ]
  },
  {
   "cell_type": "code",
   "execution_count": 372,
   "id": "94680989-6ff8-47b4-b4a1-571bdf45b6d6",
   "metadata": {},
   "outputs": [
    {
     "name": "stdout",
     "output_type": "stream",
     "text": [
      "True\n"
     ]
    }
   ],
   "source": [
    "identifiermethod = \"my_string\"\n",
    "a = identifiermethod.isidentifier()\n",
    "print(a)"
   ]
  },
  {
   "cell_type": "code",
   "execution_count": 374,
   "id": "b12ad5c8-c7d3-4c2a-832c-aa8b21fa430a",
   "metadata": {},
   "outputs": [
    {
     "name": "stdout",
     "output_type": "stream",
     "text": [
      "False\n"
     ]
    }
   ],
   "source": [
    "identifiermethod = \"my string\"\n",
    "a = identifiermethod.isidentifier()\n",
    "print(a)"
   ]
  },
  {
   "cell_type": "code",
   "execution_count": 376,
   "id": "38242ea2-4df6-42c1-939a-ee463c3843e8",
   "metadata": {},
   "outputs": [
    {
     "name": "stdout",
     "output_type": "stream",
     "text": [
      "True\n"
     ]
    }
   ],
   "source": [
    "identifiermethod = \"mystring\"\n",
    "a = identifiermethod.isidentifier()\n",
    "print(a)"
   ]
  },
  {
   "cell_type": "code",
   "execution_count": 378,
   "id": "9363f87c-2fe0-4a45-a53a-db57f07bc4ea",
   "metadata": {},
   "outputs": [
    {
     "name": "stdout",
     "output_type": "stream",
     "text": [
      "False\n"
     ]
    }
   ],
   "source": [
    "identifiermethod = \"my_string 123\"\n",
    "a = identifiermethod.isidentifier()\n",
    "print(a)"
   ]
  },
  {
   "cell_type": "code",
   "execution_count": 380,
   "id": "5790aa2c-bbf9-4d99-9f89-52f1df7aca5e",
   "metadata": {},
   "outputs": [
    {
     "name": "stdout",
     "output_type": "stream",
     "text": [
      "True\n"
     ]
    }
   ],
   "source": [
    "identifiermethod = \"my_string_123\"\n",
    "a = identifiermethod.isidentifier()\n",
    "print(a)"
   ]
  },
  {
   "cell_type": "markdown",
   "id": "9c65b373-66e8-494d-a9a9-c7cb69202028",
   "metadata": {},
   "source": [
    "__`26. islower()`__\n",
    "- Checks if all characters are lowercase."
   ]
  },
  {
   "cell_type": "code",
   "execution_count": 383,
   "id": "b88e7b06-27a7-41f4-9631-00ceced8ec35",
   "metadata": {},
   "outputs": [
    {
     "name": "stdout",
     "output_type": "stream",
     "text": [
      "False\n"
     ]
    }
   ],
   "source": [
    "islowermethod = \"Hello\"\n",
    "a = islowermethod.islower()\n",
    "print(a)"
   ]
  },
  {
   "cell_type": "code",
   "execution_count": 385,
   "id": "007585b9-8e6a-494e-a3ec-0e8d48d4a0e9",
   "metadata": {},
   "outputs": [
    {
     "name": "stdout",
     "output_type": "stream",
     "text": [
      "True\n"
     ]
    }
   ],
   "source": [
    "islowermethod = \"hello\"\n",
    "a = islowermethod.islower()\n",
    "print(a)"
   ]
  },
  {
   "cell_type": "code",
   "execution_count": 387,
   "id": "50f19059-702d-40eb-ab5b-0b0ec03eadeb",
   "metadata": {},
   "outputs": [
    {
     "name": "stdout",
     "output_type": "stream",
     "text": [
      "False\n"
     ]
    }
   ],
   "source": [
    "islowermethod = \"123456\"\n",
    "a = islowermethod.islower()\n",
    "print(a)"
   ]
  },
  {
   "cell_type": "markdown",
   "id": "d63cc5c4-98fa-479b-85f8-95d9a1cd2d3c",
   "metadata": {},
   "source": [
    "__`27. isnumeric()`__\n",
    "- Checks if all characters are numeric or numbers."
   ]
  },
  {
   "cell_type": "code",
   "execution_count": 397,
   "id": "64ccc692-10e5-4069-b03c-f75655366dd9",
   "metadata": {},
   "outputs": [
    {
     "name": "stdout",
     "output_type": "stream",
     "text": [
      "True\n"
     ]
    }
   ],
   "source": [
    "isnumericmethod = \"1525\"\n",
    "a = isnumericmethod.isnumeric()\n",
    "print(a)"
   ]
  },
  {
   "cell_type": "code",
   "execution_count": 405,
   "id": "561d6d20-2c51-49ea-a453-a7a2a10906aa",
   "metadata": {},
   "outputs": [
    {
     "name": "stdout",
     "output_type": "stream",
     "text": [
      "False\n"
     ]
    }
   ],
   "source": [
    "isnumericmethod = \"15.25\"\n",
    "a = isnumericmethod.isnumeric()\n",
    "print(a)"
   ]
  },
  {
   "cell_type": "markdown",
   "id": "4e44fb10-b9df-48ca-8ec1-94a8e014beae",
   "metadata": {},
   "source": [
    "__`28. isprintable()`__\n",
    "- Checks if all characters are printable."
   ]
  },
  {
   "cell_type": "code",
   "execution_count": 409,
   "id": "42ca15a3-95fd-4ad8-a0bc-ddddda64216e",
   "metadata": {},
   "outputs": [
    {
     "name": "stdout",
     "output_type": "stream",
     "text": [
      "True\n"
     ]
    }
   ],
   "source": [
    "isprintablemethod = \"    hi, how are you?    \"\n",
    "a = isprintablemethod.isprintable()\n",
    "print(a)"
   ]
  },
  {
   "cell_type": "code",
   "execution_count": 417,
   "id": "f4f4d43e-08cd-4a02-b727-97d9d93abe51",
   "metadata": {},
   "outputs": [
    {
     "name": "stdout",
     "output_type": "stream",
     "text": [
      "True\n"
     ]
    }
   ],
   "source": [
    "isprintablemethod = \" \"\n",
    "a = isprintablemethod.isprintable()\n",
    "print(a)"
   ]
  },
  {
   "cell_type": "markdown",
   "id": "cfb1c634-5be1-43ea-a977-07cfa8259337",
   "metadata": {},
   "source": [
    "__`29. isspace()`__\n",
    "- Checks if all characters are whitespace."
   ]
  },
  {
   "cell_type": "code",
   "execution_count": 423,
   "id": "bac5b8f7-445d-4bca-b56d-f99e3bc58f5a",
   "metadata": {},
   "outputs": [
    {
     "name": "stdout",
     "output_type": "stream",
     "text": [
      "True\n"
     ]
    }
   ],
   "source": [
    "isspacemethod = \" \"\n",
    "a = isspacemethod.isspace()\n",
    "print(a)"
   ]
  },
  {
   "cell_type": "code",
   "execution_count": 429,
   "id": "a9a05570-c03d-45dc-b258-66429606e405",
   "metadata": {},
   "outputs": [
    {
     "name": "stdout",
     "output_type": "stream",
     "text": [
      "False\n"
     ]
    }
   ],
   "source": [
    "isspacemethod = \"abc 123\"\n",
    "a = isspacemethod.isspace()\n",
    "print(a)"
   ]
  },
  {
   "cell_type": "code",
   "execution_count": 427,
   "id": "5395cb07-bf45-4303-bc5b-bae8647487ff",
   "metadata": {},
   "outputs": [
    {
     "name": "stdout",
     "output_type": "stream",
     "text": [
      "False\n"
     ]
    }
   ],
   "source": [
    "isspacemethod = \"\"\n",
    "a = isspacemethod.isspace()\n",
    "print(a)"
   ]
  },
  {
   "cell_type": "markdown",
   "id": "1db6d32b-f82b-4ff0-8c74-02eb70030f9f",
   "metadata": {},
   "source": [
    "__`30. istitle()`__\n",
    "- Checks the given character is in form of title or not."
   ]
  },
  {
   "cell_type": "code",
   "execution_count": 434,
   "id": "00afd7a2-05da-4533-8e25-0f103d65a8f3",
   "metadata": {},
   "outputs": [
    {
     "name": "stdout",
     "output_type": "stream",
     "text": [
      "False\n"
     ]
    }
   ],
   "source": [
    "istitlemethod = \"Welcome to India\"\n",
    "a = istitlemethod.istitle()\n",
    "print(a)"
   ]
  },
  {
   "cell_type": "code",
   "execution_count": 436,
   "id": "67c24d0f-fd5f-41ee-a7b4-b4880e2f0351",
   "metadata": {},
   "outputs": [
    {
     "name": "stdout",
     "output_type": "stream",
     "text": [
      "True\n"
     ]
    }
   ],
   "source": [
    "istitlemethod = \"Welcome To India\"\n",
    "a = istitlemethod.istitle()\n",
    "print(a)"
   ]
  },
  {
   "cell_type": "code",
   "execution_count": null,
   "id": "11be8ac2-8407-4c19-9028-6bbec783edf1",
   "metadata": {},
   "outputs": [],
   "source": []
  }
 ],
 "metadata": {
  "kernelspec": {
   "display_name": "Python 3 (ipykernel)",
   "language": "python",
   "name": "python3"
  },
  "language_info": {
   "codemirror_mode": {
    "name": "ipython",
    "version": 3
   },
   "file_extension": ".py",
   "mimetype": "text/x-python",
   "name": "python",
   "nbconvert_exporter": "python",
   "pygments_lexer": "ipython3",
   "version": "3.12.4"
  }
 },
 "nbformat": 4,
 "nbformat_minor": 5
}
