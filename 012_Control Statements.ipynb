{
 "cells": [
  {
   "cell_type": "markdown",
   "id": "02a4e871-e2ae-49d9-9a51-cc5ec72fb60c",
   "metadata": {},
   "source": [
    "## __Control Statements:__\n",
    "- _Control statements provide ways to control the execution of a loop or to handle certain situations._\n",
    "- _In python we have three types of control statements._"
   ]
  },
  {
   "cell_type": "markdown",
   "id": "f91f14fa-a6b3-4b0c-9ab4-683fb56409b0",
   "metadata": {},
   "source": [
    "#### __`1. Pass`:__\n",
    "- _The Pass statement is a no operation statement._\n",
    "- _It is a placeholder where syntactically some code is required, but no action needs to be taken._\n",
    "\n",
    "___`Example:`___"
   ]
  },
  {
   "cell_type": "code",
   "execution_count": 61,
   "id": "6e671d52-7b4d-44b1-8e8e-26e0fa8eb2b7",
   "metadata": {},
   "outputs": [
    {
     "name": "stdout",
     "output_type": "stream",
     "text": [
      "0\n",
      "1\n",
      "2\n",
      "3\n",
      "4\n",
      "6\n",
      "7\n",
      "8\n",
      "9\n"
     ]
    }
   ],
   "source": [
    "n = 10\n",
    "for i in range(0, n):\n",
    "    if i == 5:\n",
    "        pass\n",
    "    else:\n",
    "        print(i)"
   ]
  },
  {
   "cell_type": "code",
   "execution_count": 16,
   "id": "37c7d458-4122-4c13-8772-5bf7f8f60fe0",
   "metadata": {},
   "outputs": [
    {
     "name": "stdout",
     "output_type": "stream",
     "text": [
      "H\n",
      "e\n",
      "o\n",
      ",\n",
      " \n",
      "W\n",
      "o\n",
      "r\n",
      "d\n"
     ]
    }
   ],
   "source": [
    "a = \"Hello, World\"\n",
    "for i in a:\n",
    "    if i == \"l\":\n",
    "        pass\n",
    "    else:\n",
    "        print(i)"
   ]
  },
  {
   "cell_type": "code",
   "execution_count": 22,
   "id": "8b7e5063-0c75-47a9-aa1a-6a819a4bc0ca",
   "metadata": {},
   "outputs": [
    {
     "name": "stdout",
     "output_type": "stream",
     "text": [
      "Apple\n",
      "1\n",
      "10.5\n",
      "True\n",
      "6\n",
      "8\n",
      "9\n"
     ]
    }
   ],
   "source": [
    "a = [\"Apple\", 1, 10.5, 1+6j, True, 6, 8, 9]\n",
    "for i in a:\n",
    "    if i == 1+6j:\n",
    "        pass\n",
    "    else:\n",
    "        print(i)"
   ]
  },
  {
   "cell_type": "code",
   "execution_count": 37,
   "id": "3e9b2909-3775-477f-821e-8cbfa2c66fdc",
   "metadata": {},
   "outputs": [
    {
     "name": "stdout",
     "output_type": "stream",
     "text": [
      "1\n",
      "2\n",
      "3\n",
      "4\n",
      "6\n",
      "7\n",
      "8\n",
      "9\n"
     ]
    }
   ],
   "source": [
    "a = (1, 2, 3, 4, 5, 6, 7, 8, 9)\n",
    "for i in a:\n",
    "    if i == 5:\n",
    "        pass\n",
    "    else:\n",
    "        print(i)"
   ]
  },
  {
   "cell_type": "markdown",
   "id": "c0ec21b3-bc62-497f-aaa3-695b9112ab21",
   "metadata": {},
   "source": [
    "#### __`2. Break:`__\n",
    "- _The break statement is used to exit a loop prematurley._\n",
    "- _When a break statement is encountered, the loop terminates immediately, and control is transfered to the statement immediately following the loop._\n",
    "\n",
    "___`Example:`___"
   ]
  },
  {
   "cell_type": "code",
   "execution_count": 63,
   "id": "8d484e51-5856-445e-b12c-67f38d637508",
   "metadata": {},
   "outputs": [
    {
     "name": "stdout",
     "output_type": "stream",
     "text": [
      "0\n",
      "1\n",
      "2\n",
      "3\n",
      "4\n"
     ]
    }
   ],
   "source": [
    "n = 10\n",
    "for i in range(0, n):\n",
    "    if i == 5:\n",
    "        break\n",
    "    else:\n",
    "        print(i)"
   ]
  },
  {
   "cell_type": "code",
   "execution_count": 47,
   "id": "1d6a1b92-41f9-4190-81ed-86f314528d16",
   "metadata": {},
   "outputs": [
    {
     "name": "stdout",
     "output_type": "stream",
     "text": [
      "H\n",
      "e\n",
      "l\n",
      "l\n",
      "o\n"
     ]
    }
   ],
   "source": [
    "a = \"Hello, World\"\n",
    "for i in a:\n",
    "    if i == \",\":\n",
    "        break\n",
    "    else:\n",
    "        print(i)"
   ]
  },
  {
   "cell_type": "code",
   "execution_count": 49,
   "id": "3eccc4d6-e86a-48ff-bfe5-316e5bfe3050",
   "metadata": {},
   "outputs": [
    {
     "name": "stdout",
     "output_type": "stream",
     "text": [
      "Apple\n",
      "1\n",
      "10.5\n"
     ]
    }
   ],
   "source": [
    "a = [\"Apple\", 1, 10.5, 1+6j, True, 6, 8, 9]\n",
    "for i in a:\n",
    "    if i == 1+6j:\n",
    "        break\n",
    "    else:\n",
    "        print(i)"
   ]
  },
  {
   "cell_type": "code",
   "execution_count": 51,
   "id": "a4428947-79d0-4fe9-a37a-cfa0162ae55f",
   "metadata": {},
   "outputs": [
    {
     "name": "stdout",
     "output_type": "stream",
     "text": [
      "1\n",
      "2\n",
      "3\n",
      "4\n"
     ]
    }
   ],
   "source": [
    "a = (1, 2, 3, 4, 5, 6, 7, 8, 9)\n",
    "for i in a:\n",
    "    if i == 5:\n",
    "        break\n",
    "    else:\n",
    "        print(i)"
   ]
  },
  {
   "cell_type": "markdown",
   "id": "e7841b55-6486-4a3c-a913-f74a72d1f54c",
   "metadata": {},
   "source": [
    "#### __`3. Continue:`__\n",
    "- _The continue statement is used to skip the  rest of the code inside the loop for current iteration and continue for the next iteration._\n",
    "\n",
    "___`Example:`___"
   ]
  },
  {
   "cell_type": "code",
   "execution_count": 66,
   "id": "83410735-72fa-4168-b5ec-3b5ba5a5266a",
   "metadata": {},
   "outputs": [
    {
     "name": "stdout",
     "output_type": "stream",
     "text": [
      "0\n",
      "1\n",
      "2\n",
      "3\n",
      "4\n",
      "6\n",
      "7\n",
      "8\n",
      "9\n"
     ]
    }
   ],
   "source": [
    "n = 10\n",
    "for i in range(0, n):\n",
    "    if i == 5:\n",
    "        continue\n",
    "    else:\n",
    "        print(i)"
   ]
  },
  {
   "cell_type": "code",
   "execution_count": 68,
   "id": "66836a76-6126-480c-85bc-d3637e1b8b45",
   "metadata": {},
   "outputs": [
    {
     "name": "stdout",
     "output_type": "stream",
     "text": [
      "H\n",
      "e\n",
      "l\n",
      "l\n",
      "o\n",
      " \n",
      "W\n",
      "o\n",
      "r\n",
      "l\n",
      "d\n"
     ]
    }
   ],
   "source": [
    "a = \"Hello, World\"\n",
    "for i in a:\n",
    "    if i == \",\":\n",
    "        continue\n",
    "    else:\n",
    "        print(i)"
   ]
  },
  {
   "cell_type": "code",
   "execution_count": 70,
   "id": "27bc8ac8-8b09-416b-96d0-65d5fd8ce422",
   "metadata": {},
   "outputs": [
    {
     "name": "stdout",
     "output_type": "stream",
     "text": [
      "Apple\n",
      "1\n",
      "10.5\n",
      "True\n",
      "6\n",
      "8\n",
      "9\n"
     ]
    }
   ],
   "source": [
    "a = [\"Apple\", 1, 10.5, 1+6j, True, 6, 8, 9]\n",
    "for i in a:\n",
    "    if i == 1+6j:\n",
    "        continue\n",
    "    else:\n",
    "        print(i)"
   ]
  },
  {
   "cell_type": "code",
   "execution_count": 72,
   "id": "a62b4659-91c2-4d9a-a51f-b53a908539ae",
   "metadata": {},
   "outputs": [
    {
     "name": "stdout",
     "output_type": "stream",
     "text": [
      "1\n",
      "2\n",
      "3\n",
      "4\n",
      "6\n",
      "7\n",
      "8\n",
      "9\n"
     ]
    }
   ],
   "source": [
    "a = (1, 2, 3, 4, 5, 6, 7, 8, 9)\n",
    "for i in a:\n",
    "    if i == 5:\n",
    "        continue\n",
    "    else:\n",
    "        print(i)"
   ]
  },
  {
   "cell_type": "code",
   "execution_count": null,
   "id": "a4801617-d4d8-4120-9eed-ba3d2e7646f9",
   "metadata": {},
   "outputs": [],
   "source": []
  }
 ],
 "metadata": {
  "kernelspec": {
   "display_name": "Python 3 (ipykernel)",
   "language": "python",
   "name": "python3"
  },
  "language_info": {
   "codemirror_mode": {
    "name": "ipython",
    "version": 3
   },
   "file_extension": ".py",
   "mimetype": "text/x-python",
   "name": "python",
   "nbconvert_exporter": "python",
   "pygments_lexer": "ipython3",
   "version": "3.12.4"
  }
 },
 "nbformat": 4,
 "nbformat_minor": 5
}
