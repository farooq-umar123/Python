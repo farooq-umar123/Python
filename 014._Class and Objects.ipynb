{
 "cells": [
  {
   "cell_type": "markdown",
   "id": "397ccde6-7786-4fb4-8a49-ccf143b410d7",
   "metadata": {},
   "source": [
    "## __Python Classes/Objects:__\n",
    "- Python is a Object Oriented Programming language.\n",
    "- A class is a user-defined blueprint or prototype from which objects are created.\n",
    "- Creating a new class creates a new type of object, allowing new instances of that type to be made."
   ]
  },
  {
   "cell_type": "markdown",
   "id": "d9ee00d9-57c0-4831-b0f8-57bc870cd81a",
   "metadata": {},
   "source": [
    "### __Creating Class:__\n",
    "- To create a class , use keyword __`class`__.\n",
    "- Use __`colon :`__ after giving class name.\n",
    "\n",
    "__`Syntax:`__\n",
    "\n",
    "___class class_name: body of class___"
   ]
  },
  {
   "cell_type": "code",
   "execution_count": 6,
   "id": "4d49f9cc-a5bf-478b-b92a-aa41353700ba",
   "metadata": {},
   "outputs": [],
   "source": [
    "class user:\n",
    "    x = 5 #here x is attribute and 5 is value stored in attribute"
   ]
  },
  {
   "cell_type": "markdown",
   "id": "63368556-85b5-4768-99fb-edcb332f149e",
   "metadata": {},
   "source": [
    "### __Creating Object:__\n",
    "- Object is a physical entity.\n",
    "- We can create n No. of object for class.\n",
    "- Memory is allocated when we create boject for class."
   ]
  },
  {
   "cell_type": "code",
   "execution_count": 11,
   "id": "387adadb-a982-46c7-89b5-23ec07fbc901",
   "metadata": {},
   "outputs": [
    {
     "name": "stdout",
     "output_type": "stream",
     "text": [
      "The Value of x is: 5\n"
     ]
    }
   ],
   "source": [
    "a = user()\n",
    "#here a is an object to print the value of x stored in class we use object.attribute\n",
    "print(\"The Value of x is:\", a.x)"
   ]
  },
  {
   "cell_type": "markdown",
   "id": "09d01ba4-2daf-4328-9f18-7c28eab1cbad",
   "metadata": {},
   "source": [
    "__`Examples:`__"
   ]
  },
  {
   "cell_type": "code",
   "execution_count": 88,
   "id": "b1d71a8d-a0ca-4765-8e7a-65460d349853",
   "metadata": {},
   "outputs": [
    {
     "name": "stdout",
     "output_type": "stream",
     "text": [
      "My name is Umar\n"
     ]
    }
   ],
   "source": [
    "class user:\n",
    "    def info(self):\n",
    "        print(\"My name is Umar\")\n",
    "\n",
    "a = user()\n",
    "a.info()"
   ]
  },
  {
   "cell_type": "code",
   "execution_count": 44,
   "id": "5a935da7-aa62-4f12-9b39-a3e5fe769819",
   "metadata": {},
   "outputs": [
    {
     "name": "stdout",
     "output_type": "stream",
     "text": [
      "My name is Umar and my age is 25\n"
     ]
    }
   ],
   "source": [
    "class user:\n",
    "    Name = \"Umar\"\n",
    "    Age = 25\n",
    "    def details(self):\n",
    "        print(f\"My name is {self.Name} and my age is {self.Age}\")\n",
    "a = user()\n",
    "a.details()"
   ]
  },
  {
   "cell_type": "code",
   "execution_count": 58,
   "id": "ef408033-40f4-4b7f-b7ad-0028c635b610",
   "metadata": {},
   "outputs": [
    {
     "name": "stdout",
     "output_type": "stream",
     "text": [
      "Mahindra is manufacturer of the car Scorpio.\n",
      "\n",
      "Toyota is manufacturer of the car Innova.\n",
      "\n",
      "All car's manufacturing company has same body structure of car with different models.\n"
     ]
    }
   ],
   "source": [
    "class Cars:\n",
    "    def __init__(self, car_name, car_company):\n",
    "        self.car_name = car_name\n",
    "        self.car_company = car_company\n",
    "\n",
    "    def bp(self):\n",
    "        print(\"All car's manufacturing company has same body structure of car with different models.\")\n",
    "\n",
    "car1 = Cars(\"Scorpio\", \"Mahindra\")\n",
    "car2 = Cars(\"Innova\", \"Toyota\")\n",
    "print(f\"{car1.car_company} is manufacturer of the car {car1.car_name}.\\n\")\n",
    "print(f\"{car2.car_company} is manufacturer of the car {car2.car_name}.\\n\")\n",
    "car1.bp()"
   ]
  },
  {
   "cell_type": "code",
   "execution_count": 86,
   "id": "6bc891d1-67b0-4837-997e-ecf7c25f43ea",
   "metadata": {},
   "outputs": [
    {
     "name": "stdin",
     "output_type": "stream",
     "text": [
      "Enter Marks: 55\n"
     ]
    },
    {
     "name": "stdout",
     "output_type": "stream",
     "text": [
      "Below Average\n"
     ]
    }
   ],
   "source": [
    "Marks = int(input(\"Enter Marks:\"))\n",
    "class  Grading:\n",
    "    def Grades(self):\n",
    "        if Marks>=90 and Marks<=100:\n",
    "            print(\"Grade A\")\n",
    "        elif Marks>=80 and Marks<90:\n",
    "            print(\"Grade B\")\n",
    "        elif Marks>=70 and Marks<80:\n",
    "            print(\"Grade C\")\n",
    "        elif Marks>=60 and Marks<70:\n",
    "            print(\"Grade D\")\n",
    "        elif Marks>=50 and Marks<60:\n",
    "            print(\"Below Average\")\n",
    "        else:\n",
    "            print(\"Fail\")\n",
    "a = Grading()\n",
    "a.Grades()"
   ]
  },
  {
   "cell_type": "code",
   "execution_count": null,
   "id": "efd9e08a-72ba-4913-8100-cebb928870e1",
   "metadata": {},
   "outputs": [],
   "source": []
  }
 ],
 "metadata": {
  "kernelspec": {
   "display_name": "Python 3 (ipykernel)",
   "language": "python",
   "name": "python3"
  },
  "language_info": {
   "codemirror_mode": {
    "name": "ipython",
    "version": 3
   },
   "file_extension": ".py",
   "mimetype": "text/x-python",
   "name": "python",
   "nbconvert_exporter": "python",
   "pygments_lexer": "ipython3",
   "version": "3.12.4"
  }
 },
 "nbformat": 4,
 "nbformat_minor": 5
}
