{
 "cells": [
  {
   "cell_type": "markdown",
   "id": "a77529f1-aa1f-43ef-8143-64352ee89b57",
   "metadata": {},
   "source": [
    "## __Dictionaries in Python:__\n",
    "- _Dictionaries are mutable data structures that allow you to store key-value pairs._\n",
    "- _Dictionary can be created using `curly braces'{}'`._\n",
    "- _Once you have created a dictionary, you can add, remove, or update elements._\n",
    "- _Dictionaries are also known as associative arrays or hash maps in other programming languages._\n",
    "- _Each key-value are seperated by `colon (:)` and each pair is known as item and each item is seperated by `comma (,)`._"
   ]
  },
  {
   "cell_type": "markdown",
   "id": "80331bbc-7976-47d7-9f72-9340dd8ef6b9",
   "metadata": {},
   "source": [
    "### __Creating Dictionaries:__"
   ]
  },
  {
   "cell_type": "code",
   "execution_count": 6,
   "id": "bad7a5f8-9c05-40f5-b0bc-af948b972540",
   "metadata": {
    "scrolled": true
   },
   "outputs": [
    {
     "name": "stdout",
     "output_type": "stream",
     "text": [
      "{'emp_name': 'David', 'emp_id': 1001, 'emp_number': 9876543210, 'emp_role': 'Software Developer'}\n"
     ]
    }
   ],
   "source": [
    "#Empty dictionary\n",
    "empty_dict = {}\n",
    "\n",
    "#Dictionary with key-value pairs\n",
    "EMP = {\"emp_name\":\"David\", \"emp_id\":1001, \"emp_number\":9876543210, \"emp_role\":\"Software Developer\"}\n",
    "print(EMP)"
   ]
  },
  {
   "cell_type": "code",
   "execution_count": 15,
   "id": "be8d068b-d35f-4daa-bb86-f51d216a4e27",
   "metadata": {
    "scrolled": true
   },
   "outputs": [
    {
     "name": "stdout",
     "output_type": "stream",
     "text": [
      "{'emp_name': 'Dave', 'emp_age': 35, 'emp_height': 5.8, 'emp_certs': ['Core Java', 'Python', 'AWS', 'Azure']}\n"
     ]
    }
   ],
   "source": [
    "#Dictionaries with mixed-datatypes\n",
    "mixed_dictEMP = {\"emp_name\":\"Dave\", \"emp_age\":35, \"emp_height\":5.8, \"emp_certs\":[\"Core Java\", \"Python\", \"AWS\", \"Azure\"]}\n",
    "print(mixed_dictEMP)"
   ]
  },
  {
   "cell_type": "markdown",
   "id": "0820e2a1-3e87-44d8-92dc-153a27b4d98f",
   "metadata": {},
   "source": [
    "### __Accessing Values:__\n",
    "- _In dictionaries values are accessed using `\"keys\"`._"
   ]
  },
  {
   "cell_type": "code",
   "execution_count": 17,
   "id": "5df02ff5-c22d-4462-a3ee-dad00a34aaca",
   "metadata": {
    "scrolled": true
   },
   "outputs": [
    {
     "name": "stdout",
     "output_type": "stream",
     "text": [
      "{'emp_name': 'David', 'emp_id': 1001, 'emp_number': 9876543210, 'emp_role': 'Software Developer'}\n"
     ]
    }
   ],
   "source": [
    "#Dictionary with key-value pairs\n",
    "EMP = {\"emp_name\":\"David\", \"emp_id\":1001, \"emp_number\":9876543210, \"emp_role\":\"Software Developer\"}\n",
    "print(EMP)"
   ]
  },
  {
   "cell_type": "code",
   "execution_count": 35,
   "id": "312ce3cf-c49a-46d2-8dd1-e1782f96214a",
   "metadata": {
    "scrolled": true
   },
   "outputs": [
    {
     "name": "stdout",
     "output_type": "stream",
     "text": [
      "{'emp_name': 'Dave', 'emp_age': 35, 'emp_height': 5.8, 'emp_certs': ['Core Java', 'Python', 'AWS', 'Azure']}\n"
     ]
    }
   ],
   "source": [
    "#Dictionaries with mixed-datatypes\n",
    "mixed_dictEMP = {\"emp_name\":\"Dave\", \"emp_age\":35, \"emp_height\":5.8, \"emp_certs\":[\"Core Java\", \"Python\", \"AWS\", \"Azure\"]}\n",
    "print(mixed_dictEMP)"
   ]
  },
  {
   "cell_type": "code",
   "execution_count": 23,
   "id": "6bbc9190-b426-4aba-b684-f824aec97038",
   "metadata": {
    "scrolled": true
   },
   "outputs": [
    {
     "name": "stdout",
     "output_type": "stream",
     "text": [
      "David\n",
      "['Core Java', 'Python', 'AWS', 'Azure']\n"
     ]
    }
   ],
   "source": [
    "#Accessing Values or Elements\n",
    "print(EMP[\"emp_name\"])\n",
    "print(mixed_dictEMP[\"emp_certs\"])"
   ]
  },
  {
   "cell_type": "markdown",
   "id": "e5e2e527-6ad6-4235-a8a3-93368248e705",
   "metadata": {},
   "source": [
    "### __Modifying and Adding New key-value or entries:__"
   ]
  },
  {
   "cell_type": "code",
   "execution_count": 26,
   "id": "0fccb542-056a-4e32-bdd7-d8411369f531",
   "metadata": {
    "scrolled": true
   },
   "outputs": [
    {
     "name": "stdout",
     "output_type": "stream",
     "text": [
      "{'emp_name': 'David', 'emp_id': 1001, 'emp_number': 9876543210, 'emp_role': 'Software Developer'}\n"
     ]
    }
   ],
   "source": [
    "#Dictionary with key-value pairs\n",
    "EMP = {\"emp_name\":\"David\", \"emp_id\":1001, \"emp_number\":9876543210, \"emp_role\":\"Software Developer\"}\n",
    "print(EMP)"
   ]
  },
  {
   "cell_type": "code",
   "execution_count": 28,
   "id": "2db99957-9b6f-4c8c-b3a9-81a02c4679f5",
   "metadata": {
    "scrolled": true
   },
   "outputs": [
    {
     "name": "stdout",
     "output_type": "stream",
     "text": [
      "{'emp_name': 'David', 'emp_id': 1234, 'emp_number': 9876543210, 'emp_role': 'Software Developer'}\n"
     ]
    }
   ],
   "source": [
    "#Modifying values in dictionary\n",
    "EMP[\"emp_id\"] = 1234\n",
    "print(EMP)"
   ]
  },
  {
   "cell_type": "code",
   "execution_count": 31,
   "id": "5098e207-b791-4b05-ad85-2e29dd5a32d4",
   "metadata": {
    "scrolled": true
   },
   "outputs": [
    {
     "name": "stdout",
     "output_type": "stream",
     "text": [
      "{'emp_name': 'David', 'emp_id': 1234, 'emp_number': 9876543210, 'emp_role': 'Software Developer', 'emp_email': 'xyz123@gmail.com', 'emp_age': 30}\n"
     ]
    }
   ],
   "source": [
    "#Adding new key-value\n",
    "EMP[\"emp_email\"] = \"xyz123@gmail.com\"\n",
    "EMP[\"emp_age\"] = 30\n",
    "print(EMP)"
   ]
  },
  {
   "cell_type": "markdown",
   "id": "a7a75ddb-546f-4f8b-b627-a7f43ff5888c",
   "metadata": {},
   "source": [
    "### __Dictionary Methods:__\n",
    "__`1. get()`__\n",
    "- _With this method we can access value of specified key in dictionary._"
   ]
  },
  {
   "cell_type": "code",
   "execution_count": 53,
   "id": "cde41b3c-6104-4b88-a904-3956b25e9c73",
   "metadata": {
    "scrolled": true
   },
   "outputs": [
    {
     "name": "stdout",
     "output_type": "stream",
     "text": [
      "1234\n",
      "9876543210\n",
      "Gender details not found\n",
      "None\n"
     ]
    }
   ],
   "source": [
    "id = EMP.get(\"emp_id\", \"No Id Given\")\n",
    "number = EMP.get(\"emp_number\", \"No number found\")\n",
    "gender = EMP.get(\"emp_gender\", \"Gender details not found\")\n",
    "location = EMP.get(\"emp_location\") #as any comment is not given about the key, compiler prints None if the key is not in dictionary\n",
    "print(id)\n",
    "print(number)\n",
    "print(gender)\n",
    "print(location)"
   ]
  },
  {
   "cell_type": "markdown",
   "id": "e713a0a6-a52b-47f5-800f-eb742771b7e6",
   "metadata": {},
   "source": [
    "__`2. keys()`__\n",
    "- _Returns a view of all the keys in dictionary._"
   ]
  },
  {
   "cell_type": "code",
   "execution_count": 55,
   "id": "766bc9da-ed11-4577-8d36-96d65a6445be",
   "metadata": {
    "scrolled": true
   },
   "outputs": [
    {
     "name": "stdout",
     "output_type": "stream",
     "text": [
      "dict_keys(['emp_name', 'emp_id', 'emp_number', 'emp_role', 'emp_email', 'emp_age'])\n"
     ]
    }
   ],
   "source": [
    "keys = EMP.keys()\n",
    "print(keys)"
   ]
  },
  {
   "cell_type": "markdown",
   "id": "02226196-53bd-4c95-981c-b24ca8ff7c54",
   "metadata": {},
   "source": [
    "__`3. values()`__\n",
    "- _Returs a view of all the values in dictionary._"
   ]
  },
  {
   "cell_type": "code",
   "execution_count": 60,
   "id": "080e6e37-09f5-4d0d-a852-26b3022e2a0c",
   "metadata": {
    "scrolled": true
   },
   "outputs": [
    {
     "name": "stdout",
     "output_type": "stream",
     "text": [
      "dict_values(['David', 1234, 9876543210, 'Software Developer', 'xyz123@gmail.com', 30])\n"
     ]
    }
   ],
   "source": [
    "values = EMP.values()\n",
    "print(values)"
   ]
  },
  {
   "cell_type": "markdown",
   "id": "9511eaef-75f4-4944-b1f8-176f4530a0a1",
   "metadata": {},
   "source": [
    "__`4. items()`__\n",
    "- _Returns a view of all key-value in a pairs of tuples._"
   ]
  },
  {
   "cell_type": "code",
   "execution_count": 64,
   "id": "437106f9-54f0-4591-9fab-35a7ba4cd422",
   "metadata": {
    "scrolled": true
   },
   "outputs": [
    {
     "name": "stdout",
     "output_type": "stream",
     "text": [
      "dict_items([('emp_name', 'David'), ('emp_id', 1234), ('emp_number', 9876543210), ('emp_role', 'Software Developer'), ('emp_email', 'xyz123@gmail.com'), ('emp_age', 30)])\n"
     ]
    }
   ],
   "source": [
    "items = EMP.items()\n",
    "print(items)"
   ]
  },
  {
   "cell_type": "markdown",
   "id": "afc8e00e-026b-4ac1-8bb5-a94e9f0bb2a6",
   "metadata": {},
   "source": [
    "__`5. pop()`__\n",
    "- _Removes and returns the value of specified key._\n",
    "- _If any key is not specified in pop() method the compiler throws an error._\n",
    "- _In pop() methond atleast 1 arguement need to be passed._"
   ]
  },
  {
   "cell_type": "code",
   "execution_count": 112,
   "id": "b0386a08-b2f2-4140-bf17-e34a79f48b21",
   "metadata": {
    "scrolled": true
   },
   "outputs": [
    {
     "name": "stdout",
     "output_type": "stream",
     "text": [
      "{'emp_name': 'Dave', 'emp_age': 35, 'emp_height': 5.8, 'emp_certs': ['Core Java', 'Python', 'AWS', 'Azure']}\n"
     ]
    }
   ],
   "source": [
    "empdetails = {\"emp_name\":\"Dave\", \"emp_age\":35, \"emp_height\":5.8, \"emp_certs\":[\"Core Java\", \"Python\", \"AWS\", \"Azure\"]}\n",
    "print(empdetails)"
   ]
  },
  {
   "cell_type": "code",
   "execution_count": 114,
   "id": "ccb400bd-ca5c-4828-b1c5-03288fd05c65",
   "metadata": {
    "scrolled": true
   },
   "outputs": [
    {
     "name": "stdout",
     "output_type": "stream",
     "text": [
      "['Core Java', 'Python', 'AWS', 'Azure']\n"
     ]
    }
   ],
   "source": [
    "#Using pop() method specifying a key\n",
    "emp_certs_pop = empdetails.pop(\"emp_certs\")\n",
    "print(emp_certs_pop)"
   ]
  },
  {
   "cell_type": "code",
   "execution_count": 116,
   "id": "cbc06067-443b-482b-975c-044e853f3f40",
   "metadata": {
    "scrolled": true
   },
   "outputs": [
    {
     "name": "stdout",
     "output_type": "stream",
     "text": [
      "{'emp_name': 'Dave', 'emp_age': 35, 'emp_height': 5.8}\n"
     ]
    }
   ],
   "source": [
    "print(empdetails)"
   ]
  },
  {
   "cell_type": "code",
   "execution_count": 118,
   "id": "9ae37ca8-55ad-4ba3-9994-0837c0d21258",
   "metadata": {
    "scrolled": true
   },
   "outputs": [
    {
     "ename": "TypeError",
     "evalue": "pop expected at least 1 argument, got 0",
     "output_type": "error",
     "traceback": [
      "\u001b[1;31m---------------------------------------------------------------------------\u001b[0m",
      "\u001b[1;31mTypeError\u001b[0m                                 Traceback (most recent call last)",
      "Cell \u001b[1;32mIn[118], line 2\u001b[0m\n\u001b[0;32m      1\u001b[0m \u001b[38;5;66;03m# Using pop() method without specifying a key\u001b[39;00m\n\u001b[1;32m----> 2\u001b[0m age \u001b[38;5;241m=\u001b[39m empdetails\u001b[38;5;241m.\u001b[39mpop()\n\u001b[0;32m      3\u001b[0m \u001b[38;5;28mprint\u001b[39m(age)\n",
      "\u001b[1;31mTypeError\u001b[0m: pop expected at least 1 argument, got 0"
     ]
    }
   ],
   "source": [
    "# Using pop() method without specifying a key\n",
    "age = empdetails.pop()\n",
    "print(age)"
   ]
  },
  {
   "cell_type": "markdown",
   "id": "69cc87a3-0ae9-484e-bdf0-18da2f9b71f1",
   "metadata": {},
   "source": [
    "__`6. popitem()`__\n",
    "- _Removes and returns the last inserted key-value pair in form of tuple._\n",
    "- _If any arguement is passed the compiler throws an error._"
   ]
  },
  {
   "cell_type": "code",
   "execution_count": 153,
   "id": "4d758548-f429-490d-b22c-2e266186ae8a",
   "metadata": {
    "scrolled": true
   },
   "outputs": [
    {
     "name": "stdout",
     "output_type": "stream",
     "text": [
      "{'emp_name': 'Dave', 'emp_age': 35, 'emp_height': 5.8, 'emp_certs': ['Core Java', 'Python', 'AWS', 'Azure']}\n"
     ]
    }
   ],
   "source": [
    "empdetails1 = {\"emp_name\":\"Dave\", \"emp_age\":35, \"emp_height\":5.8, \"emp_certs\":[\"Core Java\", \"Python\", \"AWS\", \"Azure\"]}\n",
    "print(empdetails1)"
   ]
  },
  {
   "cell_type": "code",
   "execution_count": 155,
   "id": "456d2241-5a17-460b-b9f2-824d3eda060e",
   "metadata": {
    "scrolled": true
   },
   "outputs": [
    {
     "name": "stdout",
     "output_type": "stream",
     "text": [
      "('emp_certs', ['Core Java', 'Python', 'AWS', 'Azure'])\n",
      "{'emp_name': 'Dave', 'emp_age': 35, 'emp_height': 5.8}\n"
     ]
    }
   ],
   "source": [
    "#popitem() without any key passed\n",
    "emp1_popitem = empdetails1.popitem()\n",
    "print(emp1_popitem)\n",
    "print(empdetails1)"
   ]
  },
  {
   "cell_type": "code",
   "execution_count": 157,
   "id": "644f6952-a7a6-415b-a414-787a33e3ab23",
   "metadata": {
    "scrolled": true
   },
   "outputs": [
    {
     "ename": "TypeError",
     "evalue": "dict.popitem() takes no arguments (1 given)",
     "output_type": "error",
     "traceback": [
      "\u001b[1;31m---------------------------------------------------------------------------\u001b[0m",
      "\u001b[1;31mTypeError\u001b[0m                                 Traceback (most recent call last)",
      "Cell \u001b[1;32mIn[157], line 3\u001b[0m\n\u001b[0;32m      1\u001b[0m \u001b[38;5;66;03m#popitem() with specified key\u001b[39;00m\n\u001b[0;32m      2\u001b[0m empdetails1 \u001b[38;5;241m=\u001b[39m {\u001b[38;5;124m\"\u001b[39m\u001b[38;5;124memp_name\u001b[39m\u001b[38;5;124m\"\u001b[39m:\u001b[38;5;124m\"\u001b[39m\u001b[38;5;124mDave\u001b[39m\u001b[38;5;124m\"\u001b[39m, \u001b[38;5;124m\"\u001b[39m\u001b[38;5;124memp_age\u001b[39m\u001b[38;5;124m\"\u001b[39m:\u001b[38;5;241m35\u001b[39m, \u001b[38;5;124m\"\u001b[39m\u001b[38;5;124memp_height\u001b[39m\u001b[38;5;124m\"\u001b[39m:\u001b[38;5;241m5.8\u001b[39m, \u001b[38;5;124m\"\u001b[39m\u001b[38;5;124memp_certs\u001b[39m\u001b[38;5;124m\"\u001b[39m:[\u001b[38;5;124m\"\u001b[39m\u001b[38;5;124mCore Java\u001b[39m\u001b[38;5;124m\"\u001b[39m, \u001b[38;5;124m\"\u001b[39m\u001b[38;5;124mPython\u001b[39m\u001b[38;5;124m\"\u001b[39m, \u001b[38;5;124m\"\u001b[39m\u001b[38;5;124mAWS\u001b[39m\u001b[38;5;124m\"\u001b[39m, \u001b[38;5;124m\"\u001b[39m\u001b[38;5;124mAzure\u001b[39m\u001b[38;5;124m\"\u001b[39m]}\n\u001b[1;32m----> 3\u001b[0m emp_age_popitem \u001b[38;5;241m=\u001b[39m empdetails1\u001b[38;5;241m.\u001b[39mpopitem(\u001b[38;5;124m\"\u001b[39m\u001b[38;5;124memp_age\u001b[39m\u001b[38;5;124m\"\u001b[39m)\n\u001b[0;32m      4\u001b[0m \u001b[38;5;28mprint\u001b[39m(emp_age_popitem)\n\u001b[0;32m      5\u001b[0m \u001b[38;5;28mprint\u001b[39m(empdetails1)\n",
      "\u001b[1;31mTypeError\u001b[0m: dict.popitem() takes no arguments (1 given)"
     ]
    }
   ],
   "source": [
    "#popitem() with specified key\n",
    "empdetails1 = {\"emp_name\":\"Dave\", \"emp_age\":35, \"emp_height\":5.8, \"emp_certs\":[\"Core Java\", \"Python\", \"AWS\", \"Azure\"]}\n",
    "emp_age_popitem = empdetails1.popitem(\"emp_age\")\n",
    "print(emp_age_popitem)\n",
    "print(empdetails1)"
   ]
  },
  {
   "cell_type": "markdown",
   "id": "031ec51e-7b0f-48a6-bfda-17c25df71af7",
   "metadata": {},
   "source": [
    "__`7. update()`__\n",
    "- _Updates the dictionary with elements from another dictionary._"
   ]
  },
  {
   "cell_type": "code",
   "execution_count": 167,
   "id": "59c72e80-071b-47c3-8841-b9919dc2bd01",
   "metadata": {
    "scrolled": true
   },
   "outputs": [
    {
     "name": "stdout",
     "output_type": "stream",
     "text": [
      "{'emp_name': 'David', 'emp_id': 1001, 'emp_number': 9876543210, 'emp_role': 'Software Developer'}\n"
     ]
    }
   ],
   "source": [
    "EMP = {\"emp_name\":\"David\", \n",
    "       \"emp_id\":1001,\n",
    "       \"emp_number\":9876543210, \n",
    "       \"emp_role\":\"Software Developer\"}\n",
    "print(EMP)"
   ]
  },
  {
   "cell_type": "code",
   "execution_count": 171,
   "id": "f43448e0-c811-46f2-96bd-e45900ff6c28",
   "metadata": {
    "scrolled": true
   },
   "outputs": [
    {
     "name": "stdout",
     "output_type": "stream",
     "text": [
      "{'emp_name': 'David', 'emp_id': 1234, 'emp_number': 9876543210, 'emp_role': 'Software Developer', 'emp_age': 36, 'emp_email': 'abc123@gmail.com'}\n"
     ]
    }
   ],
   "source": [
    "new_emp = {\"emp_id\":1234, \"emp_age\":36, \"emp_email\":\"abc123@gmail.com\"}\n",
    "EMP.update(new_emp)\n",
    "print(EMP)"
   ]
  },
  {
   "cell_type": "code",
   "execution_count": null,
   "id": "98f6a88b-2ed0-4b3e-a24a-b0f3226c18f8",
   "metadata": {},
   "outputs": [],
   "source": []
  }
 ],
 "metadata": {
  "kernelspec": {
   "display_name": "Python 3 (ipykernel)",
   "language": "python",
   "name": "python3"
  },
  "language_info": {
   "codemirror_mode": {
    "name": "ipython",
    "version": 3
   },
   "file_extension": ".py",
   "mimetype": "text/x-python",
   "name": "python",
   "nbconvert_exporter": "python",
   "pygments_lexer": "ipython3",
   "version": "3.12.4"
  }
 },
 "nbformat": 4,
 "nbformat_minor": 5
}
