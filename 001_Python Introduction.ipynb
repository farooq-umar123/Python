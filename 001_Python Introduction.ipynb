{
 "cells": [
  {
   "cell_type": "markdown",
   "id": "1b79e780-3406-4a5c-954b-c77711f77d16",
   "metadata": {},
   "source": [
    "## What is Python ?\n",
    "- Python is a programming language that is widely used in web applications, software development, data science, and machine learning (ML).\n",
    "- Python is an interpreted, object-oriented, high-level programming language with dynamic semantics. Its high-level built in data structures, combined with dynamic typing and dynamic binding, make it very attractive for Rapid Application Development, as well as for use as a scripting or glue language to connect existing components together."
   ]
  },
  {
   "cell_type": "markdown",
   "id": "1f9c4130-1a6e-459f-9fe8-0bceebb527cc",
   "metadata": {},
   "source": [
    "## History of Python:\n",
    "- Python is a widely used general-purpose, high-level programming language. It was initially designed by Guido van Rossum in 1991 and developed by Python Software Foundation. It was mainly developed to emphasize code readability, and its syntax allows programmers to express concepts in fewer lines of code.\n",
    "\n",
    "#### _Who Invented Python?_\n",
    "- In the late 1980s, history was about to be written. It was that time when working on Python started. Soon after that, Guido Van Rossum began doing its application-based work in December of 1989 at Centrum Wiskunde & Informatica (CWI) which is situated in the Netherlands. It was started as a hobby project because he was looking for an interesting project to keep him occupied during Christmas.\n",
    "\n",
    "#### _Why Python called Python?_\n",
    "- The inspiration for the name came from the BBC’s TV Show – __‘ Monty Python’s Flying Circus’__ , as he was a big fan of the TV show and also he wanted a short, unique and slightly mysterious name for his invention and hence he named it Python! He was the “Benevolent dictator for life” (BDFL) until he stepped down from the position as the leader on 12th July 2018.\n",
    "\n",
    "#### _Evolution of Python:_\n",
    "- The language was finally released in 1991. When it was released, it used a lot fewer codes to express the concepts, when we compare it with Java , C++ & C . Its design philosophy was quite good too. Its main objective is to provide code readability and advanced developer productivity. When it was released, it had more than enough capability to provide classes with inheritance, several core data types of exception handling and functions."
   ]
  },
  {
   "cell_type": "markdown",
   "id": "ad55a92d-aaf5-4bbd-a7af-7d33b4e77e2e",
   "metadata": {},
   "source": [
    "## Python Versions:\n",
    "#### --_Python 0.9.0 (1991)_\n",
    "\n",
    "--__Python’s journey began with version 0.9.0, released by Guido van Rossum in 1991.__\n",
    "\n",
    "- This initial release included core features such as exception handling, functions, and the core data types: list, dict, str, and others.\n",
    "- It also introduced the module system, allowing the organization of code into reusable libraries.\n",
    "\n",
    "#### --_Python 1.0 (1994)_\n",
    "\n",
    "--__Python 1.0 marked the official public release, bringing in significant features such as:__\n",
    "\n",
    "- __Lambda, Map, Filter, and Reduce:__ Functional programming constructs that allowed concise and powerful data manipulation.\n",
    "- __Exception Handling:__ A structured way to handle errors and exceptions in code.\n",
    "\n",
    "#### --_Python 1.5 (1997)_\n",
    "\n",
    "--__Version 1.5 introduced important updates, including:__\n",
    "\n",
    "- __Standard Library Enhancements:__ Expansion of the standard library, making Python more versatile.\n",
    "- __Unicode Support:__ Initial support for Unicode, facilitating internationalization.\n",
    "\n",
    "#### --_Python 2.0 (2000)_\n",
    "\n",
    "--__Python 2.0 was a pivotal release that laid the groundwork for modern Python with:__\n",
    "\n",
    "- __List Comprehensions:__ A syntactic construct for creating lists based on existing lists.\n",
    "- __Garbage Collection:__ Automatic memory management to reclaim unused memory.\n",
    "- __Unicode Support:__ Full support for Unicode, enabling better handling of international text.\n",
    "\n",
    "#### --_Python 2.7 (2010)_\n",
    "\n",
    "--__Python 2.7 was the final major release in the Python 2.x series, bringing several features from Python 3.x to ease the transition:__\n",
    "\n",
    "- __Ordered Dictionaries:__ Dictionaries that maintain the insertion order of keys.\n",
    "- __Set Literals:__ A more convenient way to define sets.\n",
    "- __Improved Syntax:__ Enhanced syntax features, including more robust error handling and new string formatting methods.\n",
    "\n",
    "#### --_Python 3.0 (2008)_\n",
    "\n",
    "--__Python 3.0, also known as “Python 3000” or “Py3k,” was a revolutionary release designed to fix inconsistencies and remove redundant constructs from Python 2.x:__\n",
    "\n",
    "- __Print Function:__ print became a function, enhancing consistency and flexibility.\n",
    "- __New Syntax and Semantics:__ Changes to integer division, Unicode string handling, and more.\n",
    "- __Removal of Deprecated Features:__ Simplification of the language by removing outdated features.\n",
    "\n",
    "#### --_Python 3.4 (2014)_\n",
    "\n",
    "--__Version 3.4 introduced several significant enhancements:__\n",
    "\n",
    "- __Asyncio:__ A framework for writing asynchronous programs, allowing for concurrent code execution.\n",
    "- __Pathlib:__ An object-oriented filesystem paths library.\n",
    "\n",
    "#### --_Python 3.5 (2015)_\n",
    "\n",
    "--__Python 3.5 brought in important features for modern programming:__\n",
    "\n",
    "- __Type Hints:__ A syntax for adding type annotations to function arguments and return values.\n",
    "- __Async and Await:__ Syntactic support for asynchronous programming, making async code more readable and maintainable.\n",
    "\n",
    "#### --_Python 3.6 (2016)_\n",
    "\n",
    "--__Python 3.6 was a landmark release with multiple enhancements:__\n",
    "\n",
    "- __Formatted String Literals (f-strings):__ A concise and readable way to embed expressions inside string literals.\n",
    "- __Underscores in Numeric Literals:__ Improved readability of large numbers.\n",
    "- __Asynchronous Generators:__ Enhancements to asynchronous programming.\n",
    "\n",
    "#### --_Python 3.7 (2018)_\n",
    "\n",
    "--__This version focused on performance and new features:__\n",
    "\n",
    "- __Data Classes__: A decorator for automatically generating special methods like __init__ and __repr__ in classes.\n",
    "- __Context Variables:__ A way to manage context-local state.\n",
    "\n",
    "#### --_Python 3.8 (2019)_\n",
    "\n",
    "--__Python 3.8 introduced several new features and optimizations:__\n",
    "\n",
    "- __Walrus Operator (:=):__ An assignment expression that allows assignment and return of a value within an expression.\n",
    "- __Positional-only Parameters:__ A way to specify arguments that can only be passed positionally.\n",
    "\n",
    "#### --_Python 3.9 (2020)_\n",
    "\n",
    "--__Python 3.9 continued to enhance the language:__\n",
    "\n",
    "- __Dictionary Merge and Update Operators:__ New operators | and |= for merging and updating dictionaries.\n",
    "- __String Methods:__ New methods like str.removeprefix() and str.removesuffix().\n",
    "\n",
    "#### --_Python 3.10 (2021)_\n",
    "\n",
    "--__Python 3.10 focused on usability and language consistency:__\n",
    "\n",
    "- __Pattern Matching:__ A powerful feature for matching complex data structures.\n",
    "- __Parenthesized Context Managers:__ Support for multiple context managers in a single with statement.\n",
    "\n",
    "#### --_Python 3.11 (2022)_\n",
    "\n",
    "--__Python 3.11 aimed at improving performance and developer experience:__\n",
    "\n",
    "- __Performance Improvements:__ Significant speed improvements across various operations.\n",
    "- __Error Messages:__ More informative and precise error messages.\n",
    "\n",
    "#### --_Python 3.12 (2023)_\n",
    "\n",
    "--__The future release of Python 3.12 bring more optimizations and features, continuing the evolution of the language.__\n",
    "\n",
    "- Improved Error Messages in Python.\n",
    "- More Flexibility in Python F-String.\n",
    "- Type Parameter Syntax.\n",
    "- Improvement in Modules.\n",
    "- Syntactic Formalization of f-strings.\n",
    "\n",
    "\n",
    "## Conclusion:\n",
    "- Python history shows how it has grown to become a key player in the programming world due to its ease of use and strong community support. Python is not only easy to learn but also supported by a community that keeps making it better. Learning Python can really boost your career, thanks to its popularity and wide application across different fields."
   ]
  },
  {
   "cell_type": "markdown",
   "id": "a42deaff-e17b-4bdc-9979-65dd7ef3bf9f",
   "metadata": {},
   "source": [
    "## Features of Python:\n",
    "#### -- __Python has many features, including:__\n",
    "- __Easy to learn__ - _Python has a simple syntax that's easy to learn and use, even for beginners._\n",
    "- __Cross-platform__ - _Python can run on multiple platforms, including Windows, Mac, Linux, and Unix._\n",
    "- __Standard library__ - _Python has a large standard library with modules for many common tasks, such as file input/output, regular expressions, and networks._\n",
    "- __Interpreted__ - _Python is an interpreted language, which means the code is executed line by line._\n",
    "- __Object-oriented__ - _Python is an object-oriented programming language with features like code reusability._\n",
    "- __Dynamically typed__ - _Python is a dynamically typed language, which means the user doesn't need to declare the type of variable when it's created._\n",
    "- __Whitespace indentation__ - _Python uses whitespace indentation to delimit blocks, instead of curly brackets or keywords._\n",
    "- __Open source__ - _Python is an open-source language developed under an OSI-approved open source license._ \r\n"
   ]
  },
  {
   "cell_type": "markdown",
   "id": "ddca31d3-af60-433c-8028-5c35f841145f",
   "metadata": {},
   "source": [
    "## Apps or Websites that uses Python:\n",
    "\n",
    "__1. Netflix__\n",
    "- _Uses Python to analyze user viewing history and provide personalized suggestions._\n",
    "- _Netflix engineers also use it to forecast audience size, viewership, and other metrics for platform development._\n",
    "\n",
    "__2. Google__\n",
    "- _Used for analytical algorithms within search engines and around YouTube for various tasks, such as video processing and data analysis._\n",
    "\n",
    "__3. Dropbox__\n",
    "- _Dropbox use Python for its cross-platform support and quick app development cycle._\n",
    "- _This allowed for the quick implementation of new features, which was critical to Dropbox’s early and rapid scaling._\n",
    "\n",
    "__4. Spotify__\n",
    "- _This is the company using Python for data analysis and backend services._\n",
    "- _Spotify leverages powerful Python to enhance Radio and Discover functions for users._\n",
    "\n",
    "__5. PayPal__\n",
    "- _To build custom ML models and secure the platform._\n",
    "- _In particular, fraud detection and risk management are what Python is mainly used for._\n"
   ]
  },
  {
   "cell_type": "markdown",
   "id": "47201120-a450-481a-9886-8953444c8593",
   "metadata": {},
   "source": [
    "## Advantage and Disadvantage of Python:\n",
    "__Advantages:__\n",
    "- Easy to learn and put into practice.\n",
    "- Functions are defined.\n",
    "- Allows for quick coding.\n",
    "- Understands compound data types.\n",
    "- Libraries in data science have python interfaces.\n",
    "- It is widely supported.\n",
    "\n",
    "__Disadvantages:__\n",
    "- Slower than compiled languages.\n",
    "- Less secure.\n",
    "- Not ideal work environment.\n",
    "- Bad memory consumption and garbage collection.\n",
    "- Poor multithreading."
   ]
  },
  {
   "cell_type": "code",
   "execution_count": 96,
   "id": "05cbf4b3-d78f-4f4a-b09c-dbbf1710990b",
   "metadata": {},
   "outputs": [
    {
     "name": "stdout",
     "output_type": "stream",
     "text": [
      "Python Version: 3.12.4 | packaged by Anaconda, Inc. | (main, Jun 18 2024, 15:03:56) [MSC v.1929 64 bit (AMD64)]\n"
     ]
    }
   ],
   "source": [
    "#This shows which python version is being used\n",
    "import sys\n",
    "print(\"Python Version:\", sys.version)"
   ]
  },
  {
   "cell_type": "code",
   "execution_count": 129,
   "id": "8effe2cd-c790-4e64-8bf5-ab2823ec94be",
   "metadata": {},
   "outputs": [
    {
     "name": "stdout",
     "output_type": "stream",
     "text": [
      "Hello, World\n"
     ]
    }
   ],
   "source": [
    "#Python first program which prints Hello, World\n",
    "print(\"Hello, World\")"
   ]
  },
  {
   "cell_type": "markdown",
   "id": "7c23552a-3b7f-4efb-aa7d-1e9db3bdf0bb",
   "metadata": {},
   "source": [
    "## __Comments in Python:__ \n",
    "-- _A comment in Python is a piece of text that is meant to be an explanatory or descriptive annotation in the source code and is not to be considered by the compiler/interpreter while generating machine language code._\n",
    "\n",
    "__There are two types of comments in Python:__\n",
    "\n",
    "__Single-line Comment:__ \n",
    "- Single-line comments start with the hash symbol __(#)__ and extend to the end of the line. It can also start with __one (single or double) quote (' or \") and end with one (single or double) quote (' or \")__"
   ]
  },
  {
   "cell_type": "code",
   "execution_count": 145,
   "id": "5987f0a0-3b64-467a-84d4-678747647504",
   "metadata": {},
   "outputs": [
    {
     "name": "stdout",
     "output_type": "stream",
     "text": [
      "Compiler has ignored all the comments using #, single quote and double quote\n"
     ]
    }
   ],
   "source": [
    "#Example of Single-line comment with hash\n",
    "'Example of Single-line comment with single quote'\n",
    "\"Example of Single-line comment with double quote\"\n",
    "print(\"Compiler has ignored all the comments using #, single quote and double quote\")"
   ]
  },
  {
   "cell_type": "markdown",
   "id": "ce21020b-0a04-4f63-9e36-aacff07c3884",
   "metadata": {},
   "source": [
    "__Multi-line Comment:__\n",
    "- Multi-line comments start with __three (single or double) quotes (''' or “””) and end with three (single or double) quotes ( ''' or “””). It can also start with \"__hash__\"__ for each individual line of comment."
   ]
  },
  {
   "cell_type": "code",
   "execution_count": 4,
   "id": "b362580d-1401-4316-85f4-65c35eeae71a",
   "metadata": {},
   "outputs": [
    {
     "name": "stdout",
     "output_type": "stream",
     "text": [
      "Compiler has ignored all the comments using #, 3 single quote and 3 double quote\n"
     ]
    }
   ],
   "source": [
    "#This is a\n",
    "#Multi-line comment  \n",
    "#using hash\n",
    "'''\n",
    "This is a Multi-line comment using three single quote.\n",
    "It can span multiple lines and include\n",
    "code snippets.\n",
    "'''\n",
    "\"\"\"\n",
    "This is a Multi-line comment using three double quote.\n",
    "It can span multiple lines and include\n",
    "code snippets.\n",
    "\"\"\"\n",
    "print(\"Compiler has ignored all the comments using #, 3 single quote and 3 double quote\")"
   ]
  },
  {
   "cell_type": "markdown",
   "id": "0f928885-0473-400b-80ab-e0e9ce3977d3",
   "metadata": {},
   "source": [
    "## __Keywords in Python:__\n",
    "\n",
    "-- _In Python, keywords are reserved words that have special meanings and cannot be used as identifiers (names for variables, functions, classes, etc.). These keywords are part of the language syntax and serve specific purposes. There are total 35 keywords in Python._"
   ]
  },
  {
   "cell_type": "code",
   "execution_count": 157,
   "id": "26359c24-50d6-4265-b64b-245979f052af",
   "metadata": {},
   "outputs": [
    {
     "name": "stdout",
     "output_type": "stream",
     "text": [
      "['False', 'None', 'True', 'and', 'as', 'assert', 'async', 'await', 'break', 'class', 'continue', 'def', 'del', 'elif', 'else', 'except', 'finally', 'for', 'from', 'global', 'if', 'import', 'in', 'is', 'lambda', 'nonlocal', 'not', 'or', 'pass', 'raise', 'return', 'try', 'while', 'with', 'yield']\n"
     ]
    },
    {
     "data": {
      "text/plain": [
       "35"
      ]
     },
     "execution_count": 157,
     "metadata": {},
     "output_type": "execute_result"
    }
   ],
   "source": [
    "'This program shows list and length of keywords'\n",
    "import keyword\n",
    "\n",
    "#Get the list of python keyword\n",
    "python_keyword = keyword.kwlist\n",
    "\n",
    "#Display list and length of keyword\n",
    "print(python_keyword)\n",
    "\n",
    "len(python_keyword)"
   ]
  }
 ],
 "metadata": {
  "kernelspec": {
   "display_name": "Python 3 (ipykernel)",
   "language": "python",
   "name": "python3"
  },
  "language_info": {
   "codemirror_mode": {
    "name": "ipython",
    "version": 3
   },
   "file_extension": ".py",
   "mimetype": "text/x-python",
   "name": "python",
   "nbconvert_exporter": "python",
   "pygments_lexer": "ipython3",
   "version": "3.12.4"
  }
 },
 "nbformat": 4,
 "nbformat_minor": 5
}
