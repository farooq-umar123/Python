{
 "cells": [
  {
   "cell_type": "markdown",
   "id": "09b9a926-a8d2-436c-b45a-a9b4f785c8a5",
   "metadata": {},
   "source": [
    "## What are Python Variables?\n",
    "\n",
    "-- __A Python variable is a reserved memory location to store values. In other words, a variable in a python program gives data to the computer for processing. Every value in Python has a datatype. Different data types in Python are Numbers, List, Tuple, Strings, Dictionary, etc.__\n",
    "\n",
    "- A variable is a named memory location in which a value is stored.\n",
    "- Any data type in Python, such as an integer, string, list, can be used as the value.\n",
    "- Variables are used to store information that will be needed during the program.\n",
    "- In Python, you do not need to define a variable before using it.\n",
    "- When you assign a value to a variable, it is created.\n",
    "- You can change a variable's value at any moment. This will override its previous value."
   ]
  },
  {
   "cell_type": "code",
   "execution_count": null,
   "id": "bda43d18-2b07-4573-9d75-2613bdc09c49",
   "metadata": {},
   "outputs": [],
   "source": []
  },
  {
   "cell_type": "markdown",
   "id": "8948ef4d-60ae-4032-a793-7552b1df7a40",
   "metadata": {},
   "source": [
    "## Types of Variables in Python:\n",
    "\n",
    "-- _There are two types of variables in the Python programming language:_\n",
    "\n",
    "__1. Python local variable:__ These variables are created within functions and can only be accessed within those functions.\n",
    "   - It exists simply within the function and cannot be accessed from anywhere else.\n",
    "   - When the function is called, local variables are generated and removed when the function returns.\n",
    "   \n",
    "__Example:__"
   ]
  },
  {
   "cell_type": "code",
   "execution_count": 37,
   "id": "a8b88946-291c-4eb9-83b6-0410e72f9976",
   "metadata": {},
   "outputs": [
    {
     "name": "stdout",
     "output_type": "stream",
     "text": [
      "Output: 15\n"
     ]
    }
   ],
   "source": [
    "'''\n",
    "In this example the function \"sum\" is defined to take two parameters, add them, \n",
    "store the result in the variable \"sum\" and then return that sum. \n",
    "With the values 5 and 10, the function is run, \n",
    "and the output (15) is displayed on the console.\n",
    "'''\n",
    "def sum(x,y):\n",
    " sum = x + y\n",
    " return sum\n",
    "print(\"Output:\", sum(5, 10))"
   ]
  },
  {
   "cell_type": "markdown",
   "id": "0d542608-dc66-41ed-b707-d461d186f8b1",
   "metadata": {},
   "source": [
    "__2. Python global variable:__ These variables are defined outside of any function and can be used throughout the program.\n",
    "   - A global variable in Python is a variable with a global scope, which means it can be accessed from anywhere in the program, including within functions.\n",
    "   - Global variables are declared outside of any Python function and are normally defined at the program's start.\n",
    "  \n",
    "__Example:__"
   ]
  },
  {
   "cell_type": "code",
   "execution_count": 19,
   "id": "69567b00-6dfc-43b2-b9ae-2219f61cb42a",
   "metadata": {},
   "outputs": [
    {
     "name": "stdout",
     "output_type": "stream",
     "text": [
      "Output: 3\n"
     ]
    }
   ],
   "source": [
    "'''\n",
    "In this example, the counter variable is declared outside of the increment_counter() function. \n",
    "It is thus a global variable that can be accessed from anywhere in the program. \n",
    "The increment_counter() function uses the global keyword to access the global variable counter. \n",
    "This is required because the function also creates a local variable with the same name. \n",
    "The function could only access the local variable if the global keyword was not used.\n",
    "'''\n",
    "counter = 0\n",
    "def increment_counter():\n",
    "    global counter\n",
    "    counter += 1\n",
    "increment_counter()\n",
    "increment_counter()\n",
    "increment_counter()\n",
    "print(\"Output:\", counter)"
   ]
  },
  {
   "cell_type": "markdown",
   "id": "5ebcebe9-7b9d-4be4-ae5f-7842e9d9aadb",
   "metadata": {},
   "source": [
    "## Declaration and Initialization of Variables in Python:\n",
    "\n",
    "-- _Declaring and initializing variables in Python is a simple operation that comprises assigning a value to a variable using the assignment operator (=). Python, unlike other programming languages, does not require explicit variable declarations._\n",
    "\n",
    "__Declaration:__\n",
    "\n",
    "* Declaring a variable in Python is simply giving it a name. This name can be any valid identifier that follows naming rules, such as beginning with a letter or underscore and containing alphanumeric characters, underscores, and digits.\n",
    "\n",
    "__Initialization:__\n",
    "\n",
    "* Initialization is the process of providing a variable with an initial value. This value can be of any valid data type, including integers, strings, floats, booleans, and more complicated data structures such as lists, dictionaries, and sets.\n",
    "\n",
    "##### Syntax of Declaring & Initializing Variable in Python\n",
    "\n",
    "variable_name = value\n",
    "\n",
    "__Example of Declaring & Initializing Variable in Python Compiler:__"
   ]
  },
  {
   "cell_type": "code",
   "execution_count": 60,
   "id": "a797d1ed-412d-4c84-8232-422e5d04a5ff",
   "metadata": {},
   "outputs": [
    {
     "name": "stdout",
     "output_type": "stream",
     "text": [
      "Output: My name is Umar and I am 25 years old.\n"
     ]
    }
   ],
   "source": [
    "# Declare a variable named 'age'\n",
    "# Initialize a value '25'\n",
    "age = 25\n",
    "# Declare a variable named 'name'\n",
    "# Initialize a value 'Umar'\n",
    "name = \"Umar\"\n",
    "# Print the values of the variables 'age' and 'name'\n",
    "print(\"Output:\", \"My name is\", name, \"and I am\", age, \"years old.\")"
   ]
  },
  {
   "cell_type": "markdown",
   "id": "fcfc9b69-c526-4c2a-8340-976474ba0573",
   "metadata": {},
   "source": [
    "## Rules of Python Variables:\n",
    "- __Begin with a letter (A-Z, a-z) or an underscore:__\n",
    "  * Variable names should begin with a letter (A-Z, a-z) or an underscore.\n",
    "  * A variable name cannot begin with a number.\n",
    "- __Use lowercase:__\n",
    "  * Lowercase names for variables are preferred.\n",
    "  * This is a standard Python convention that helps readability.\n",
    "- __Use underscores to separate words:__\n",
    "  * When multiple words combine to make a variable name, use underscores instead of spaces to separate them.\n",
    "  * This is referred to as a snake_case.\n",
    "- __Avoid reserved words:__\n",
    "  * Do not use words reserved by Python for keywords, functions, or built-in data types, such as if, elif, else, def, class, import, and so on.\n",
    "- __Maintain descriptive names:__\n",
    "  * Select variable names that effectively reflect their purpose and meaning.\n",
    "  * Avoid ambiguous or general titles such as transient or data.\n",
    "- __Unless they are common, avoid abbreviations:__\n",
    "  * Only use abbreviations when they are well-known and obvious.\n",
    "  * For example, the count is superior to cnt.\n",
    "- __Keep your naming consistent across your code:__\n",
    "  * Maintain consistency in your codebase's naming approach.\n",
    "  * This simplifies the code's understanding and maintenance."
   ]
  },
  {
   "cell_type": "markdown",
   "id": "22992fe6-11f2-4182-aa74-a522ae766025",
   "metadata": {},
   "source": [
    "#### Multi Words Variable Names:\n",
    "- Variable names with more than one word can be difficult to read.\n",
    "\n",
    "--_There are several techniques you can use to make them more readable:_\n",
    "- __Camel Case:__ Each word, except the first, starts with a capital letter.\n",
    "- __Pascal Case:__ Each word starts with a capital letter.\n",
    "- __Snake Case:__ Each word is separated by an underscore character."
   ]
  },
  {
   "cell_type": "code",
   "execution_count": 62,
   "id": "8b032466-9488-4609-8b48-b8269fd9c0e2",
   "metadata": {},
   "outputs": [
    {
     "name": "stdout",
     "output_type": "stream",
     "text": [
      "Camel Case Output: Umar\n",
      "Pascal Case Output: Umar\n",
      "Snake Case Output: Umar\n"
     ]
    }
   ],
   "source": [
    "#Example of Camel Case\n",
    "myVariableName = \"Umar\"\n",
    "print(\"Camel Case Output:\", myVariableName)\n",
    "\n",
    "#Example of Pascal Case\n",
    "MyVariableName = \"Umar\"\n",
    "print(\"Pascal Case Output:\", MyVariableName)\n",
    "\n",
    "#Example of Snake Case\n",
    "my_variable_name = \"Umar\"\n",
    "print(\"Snake Case Output:\", my_variable_name)"
   ]
  },
  {
   "cell_type": "markdown",
   "id": "3f38a7e2-eef8-4753-b7e9-0c3016a23e9f",
   "metadata": {},
   "source": [
    "## One Value to Multi Variable:\n",
    "- _Assign the same value to multiple variables by using = consecutively. For example, this is useful when initializing multiple variables with the same value._\n",
    "\n",
    "__Example:__"
   ]
  },
  {
   "cell_type": "code",
   "execution_count": 64,
   "id": "0b476192-ba5b-4d85-9a9c-db854170f096",
   "metadata": {},
   "outputs": [
    {
     "name": "stdout",
     "output_type": "stream",
     "text": [
      "10\n",
      "10\n",
      "10\n"
     ]
    }
   ],
   "source": [
    "a = b = c = 10\n",
    "print(a)\n",
    "print(b)\n",
    "print(c)"
   ]
  },
  {
   "cell_type": "markdown",
   "id": "e84fbc88-3fea-4e53-8da3-5ceb22474b4c",
   "metadata": {},
   "source": [
    "## Multiple Values to Multiple Variable:\n",
    "- _Multiple assignment is the ability to assign multiple variables to unpacked values within one statement. This allows for code to be more concise and readable, and is done by separating the variables to be assigned with a comma such as first, second, third = (1,2,3) or for index, item in enumerate(iterable)._\n",
    "\n",
    "__Example:__"
   ]
  },
  {
   "cell_type": "code",
   "execution_count": 74,
   "id": "08eab96b-fdcb-429b-b65b-74462fc7a625",
   "metadata": {},
   "outputs": [
    {
     "name": "stdout",
     "output_type": "stream",
     "text": [
      "Days: 365\n",
      "Weeks: 52\n",
      "Months: 12\n"
     ]
    }
   ],
   "source": [
    "a, b, c = \"Days: 365\",\"Weeks: 52\",\"Months: 12\"\n",
    "print(a)\n",
    "print(b)\n",
    "print(c)"
   ]
  },
  {
   "cell_type": "markdown",
   "id": "35ccec07-9c77-472a-b097-a8f28d8320d4",
   "metadata": {},
   "source": [
    "## Valid Variables:"
   ]
  },
  {
   "cell_type": "code",
   "execution_count": 93,
   "id": "fa4e253c-bc83-429a-994b-17aa1c9ee840",
   "metadata": {},
   "outputs": [
    {
     "name": "stdout",
     "output_type": "stream",
     "text": [
      "Umar\n"
     ]
    }
   ],
   "source": [
    "name = \"Umar\"\n",
    "print(name)"
   ]
  },
  {
   "cell_type": "code",
   "execution_count": 95,
   "id": "a8d90bbe-71e7-4fb1-b46e-faf6249f34c9",
   "metadata": {},
   "outputs": [
    {
     "name": "stdout",
     "output_type": "stream",
     "text": [
      "Umar123\n"
     ]
    }
   ],
   "source": [
    "user_name = \"Umar123\"\n",
    "print(user_name)"
   ]
  },
  {
   "cell_type": "code",
   "execution_count": 97,
   "id": "c62b75dc-bac9-440e-80f7-9bcb55c2b6c3",
   "metadata": {},
   "outputs": [
    {
     "name": "stdout",
     "output_type": "stream",
     "text": [
      "25\n"
     ]
    }
   ],
   "source": [
    "_userage = \"25\"\n",
    "print(_userage)"
   ]
  },
  {
   "cell_type": "code",
   "execution_count": 99,
   "id": "f0adc79a-9252-4994-a872-a749124b1d34",
   "metadata": {},
   "outputs": [
    {
     "name": "stdout",
     "output_type": "stream",
     "text": [
      "5.7\n"
     ]
    }
   ],
   "source": [
    "_user_height = \"5.7\"\n",
    "print(_user_height)"
   ]
  },
  {
   "cell_type": "code",
   "execution_count": 101,
   "id": "d6b4f127-750e-43b1-b8ea-417230efd56e",
   "metadata": {},
   "outputs": [
    {
     "name": "stdout",
     "output_type": "stream",
     "text": [
      "Farooq\n"
     ]
    }
   ],
   "source": [
    "username1 = \"Farooq\"\n",
    "print(username1)"
   ]
  },
  {
   "cell_type": "code",
   "execution_count": 103,
   "id": "26ca3b6d-d071-42b4-8246-1c7c1e49cbe3",
   "metadata": {},
   "outputs": [
    {
     "name": "stdout",
     "output_type": "stream",
     "text": [
      "Mohammed\n"
     ]
    }
   ],
   "source": [
    "user_name_1 = \"Mohammed\"\n",
    "print(user_name_1)"
   ]
  },
  {
   "cell_type": "code",
   "execution_count": 105,
   "id": "1d95418c-3c84-4826-b9ea-24596265d1ca",
   "metadata": {},
   "outputs": [
    {
     "name": "stdout",
     "output_type": "stream",
     "text": [
      "Umar Farooq\n"
     ]
    }
   ],
   "source": [
    "user_name1 = \"Umar Farooq\"\n",
    "print(user_name1)"
   ]
  },
  {
   "cell_type": "code",
   "execution_count": 107,
   "id": "b46a0e19-9fc1-4e87-b69b-8656e48f411f",
   "metadata": {},
   "outputs": [
    {
     "name": "stdout",
     "output_type": "stream",
     "text": [
      "Data Science\n"
     ]
    }
   ],
   "source": [
    "COURSE = \"Data Science\"\n",
    "print(COURSE)"
   ]
  },
  {
   "cell_type": "code",
   "execution_count": 109,
   "id": "ed692c9f-e955-4213-9182-13e82e695b68",
   "metadata": {},
   "outputs": [
    {
     "name": "stdout",
     "output_type": "stream",
     "text": [
      "35\n"
     ]
    }
   ],
   "source": [
    "total_python_keyword = \"35\"\n",
    "print(total_python_keyword)"
   ]
  },
  {
   "cell_type": "code",
   "execution_count": 111,
   "id": "620afeae-522a-4779-9366-26fe045fd51d",
   "metadata": {},
   "outputs": [
    {
     "name": "stdout",
     "output_type": "stream",
     "text": [
      "10\n",
      "10\n",
      "10\n"
     ]
    }
   ],
   "source": [
    "a = b = c = 10\n",
    "print(a)\n",
    "print(b)\n",
    "print(c)"
   ]
  },
  {
   "cell_type": "code",
   "execution_count": 113,
   "id": "f2da6661-2370-4fc4-9e53-7c585a167da0",
   "metadata": {},
   "outputs": [
    {
     "name": "stdout",
     "output_type": "stream",
     "text": [
      "Mohammed Umar Farooq\n",
      "Mohammed Umar Farooq\n",
      "Mohammed Umar Farooq\n"
     ]
    }
   ],
   "source": [
    "first_name = middle_name = last_name = \"Mohammed Umar Farooq\"\n",
    "print(first_name)\n",
    "print(middle_name)\n",
    "print(last_name)"
   ]
  },
  {
   "cell_type": "code",
   "execution_count": 115,
   "id": "507a7f94-5f4d-4171-ad65-dcbebddb5e32",
   "metadata": {},
   "outputs": [
    {
     "name": "stdout",
     "output_type": "stream",
     "text": [
      "John\n"
     ]
    }
   ],
   "source": [
    "user1 = \"John\"\n",
    "print(user1)"
   ]
  },
  {
   "cell_type": "code",
   "execution_count": 117,
   "id": "0e1484b0-1b9c-481c-b03e-7ab4fcbca666",
   "metadata": {},
   "outputs": [
    {
     "name": "stdout",
     "output_type": "stream",
     "text": [
      "James\n"
     ]
    }
   ],
   "source": [
    "user_1 = \"James\"\n",
    "print(user_1)"
   ]
  },
  {
   "cell_type": "code",
   "execution_count": 119,
   "id": "868c110a-540a-4ddc-9b09-1c1bdce403c9",
   "metadata": {},
   "outputs": [
    {
     "name": "stdout",
     "output_type": "stream",
     "text": [
      "John and James\n"
     ]
    }
   ],
   "source": [
    "user1_user2 = \"John and James\"\n",
    "print(user1_user2)"
   ]
  },
  {
   "cell_type": "code",
   "execution_count": 121,
   "id": "d7581cc7-99d1-46a4-9c4c-b6829baa6cd2",
   "metadata": {},
   "outputs": [
    {
     "name": "stdout",
     "output_type": "stream",
     "text": [
      "Charles\n"
     ]
    }
   ],
   "source": [
    "_user1 = \"Charles\"\n",
    "print(_user1)"
   ]
  },
  {
   "cell_type": "code",
   "execution_count": 123,
   "id": "831cbb9e-11d0-4e2e-82f2-10afce5d6c3d",
   "metadata": {},
   "outputs": [
    {
     "name": "stdout",
     "output_type": "stream",
     "text": [
      "Smith\n"
     ]
    }
   ],
   "source": [
    "_user_1 = \"Smith\"\n",
    "print(_user_1)"
   ]
  },
  {
   "cell_type": "code",
   "execution_count": 125,
   "id": "11322cd6-5a13-44a6-aa68-98f157fb38db",
   "metadata": {},
   "outputs": [
    {
     "name": "stdout",
     "output_type": "stream",
     "text": [
      "24568\n"
     ]
    }
   ],
   "source": [
    "userid = \"24568\"\n",
    "print(userid)"
   ]
  },
  {
   "cell_type": "code",
   "execution_count": 127,
   "id": "145fae8b-f31f-47c3-be67-18c34e902b8f",
   "metadata": {},
   "outputs": [
    {
     "name": "stdout",
     "output_type": "stream",
     "text": [
      "John\n",
      "Charles\n",
      "James\n"
     ]
    }
   ],
   "source": [
    "x, y, z = \"John\",\"Charles\",\"James\"\n",
    "print(x)\n",
    "print(y)\n",
    "print(z)"
   ]
  },
  {
   "cell_type": "code",
   "execution_count": 129,
   "id": "0b2578e6-ee12-454c-aa3c-9ec6a2d0a529",
   "metadata": {},
   "outputs": [
    {
     "name": "stdout",
     "output_type": "stream",
     "text": [
      "10\n",
      "10\n",
      "10\n"
     ]
    }
   ],
   "source": [
    "user1 = user_2 = _user_3 = 10\n",
    "print(user1)\n",
    "print(user_2)\n",
    "print(_user_3)"
   ]
  },
  {
   "cell_type": "code",
   "execution_count": 131,
   "id": "11fa5bc5-2834-40d7-8070-ecd175e60635",
   "metadata": {},
   "outputs": [
    {
     "name": "stdout",
     "output_type": "stream",
     "text": [
      "Apple\n"
     ]
    }
   ],
   "source": [
    "a = \"Apple\"\n",
    "print(a)"
   ]
  },
  {
   "cell_type": "code",
   "execution_count": 133,
   "id": "59c3819b-ed27-4133-90cc-0421df0d3361",
   "metadata": {},
   "outputs": [
    {
     "name": "stdout",
     "output_type": "stream",
     "text": [
      "5.7\n"
     ]
    }
   ],
   "source": [
    "height_= \"5.7\"\n",
    "print(height_)"
   ]
  },
  {
   "cell_type": "code",
   "execution_count": 154,
   "id": "8d77bbab-8556-4443-a1ec-c48b49c32929",
   "metadata": {},
   "outputs": [
    {
     "name": "stdout",
     "output_type": "stream",
     "text": [
      "Umar Farooq\n"
     ]
    }
   ],
   "source": [
    "false = \"Umar Farooq\"\n",
    "print(false)"
   ]
  },
  {
   "cell_type": "code",
   "execution_count": 160,
   "id": "a7a294ee-0640-479d-8b19-9f5a9b45bdd1",
   "metadata": {},
   "outputs": [
    {
     "name": "stdout",
     "output_type": "stream",
     "text": [
      "35\n"
     ]
    }
   ],
   "source": [
    "int = \"35\"\n",
    "print(int)"
   ]
  },
  {
   "cell_type": "markdown",
   "id": "534ddc62-f7b6-4a1e-b56c-c0e190aeaf27",
   "metadata": {},
   "source": [
    "## Invalid Variables:"
   ]
  },
  {
   "cell_type": "code",
   "execution_count": 138,
   "id": "7570ab58-759a-48a5-a079-ff965f35d58d",
   "metadata": {},
   "outputs": [
    {
     "ename": "SyntaxError",
     "evalue": "invalid syntax (3397003576.py, line 1)",
     "output_type": "error",
     "traceback": [
      "\u001b[1;36m  Cell \u001b[1;32mIn[138], line 1\u001b[1;36m\u001b[0m\n\u001b[1;33m    .name = \"Umar\"\u001b[0m\n\u001b[1;37m    ^\u001b[0m\n\u001b[1;31mSyntaxError\u001b[0m\u001b[1;31m:\u001b[0m invalid syntax\n"
     ]
    }
   ],
   "source": [
    ".name = \"Umar\"\n",
    "print(.name)"
   ]
  },
  {
   "cell_type": "code",
   "execution_count": 140,
   "id": "6a8ec034-ec68-45fa-930c-9462fe831ba6",
   "metadata": {},
   "outputs": [
    {
     "ename": "SyntaxError",
     "evalue": "invalid decimal literal (1994029313.py, line 1)",
     "output_type": "error",
     "traceback": [
      "\u001b[1;36m  Cell \u001b[1;32mIn[140], line 1\u001b[1;36m\u001b[0m\n\u001b[1;33m    1user_name = \"Umar123\"\u001b[0m\n\u001b[1;37m    ^\u001b[0m\n\u001b[1;31mSyntaxError\u001b[0m\u001b[1;31m:\u001b[0m invalid decimal literal\n"
     ]
    }
   ],
   "source": [
    "1user_name = \"Umar123\"\n",
    "print(1user_name)"
   ]
  },
  {
   "cell_type": "code",
   "execution_count": 142,
   "id": "6edfa097-3e2a-42b3-8ef7-b94dff7b72af",
   "metadata": {},
   "outputs": [
    {
     "ename": "SyntaxError",
     "evalue": "invalid syntax (3383917834.py, line 2)",
     "output_type": "error",
     "traceback": [
      "\u001b[1;36m  Cell \u001b[1;32mIn[142], line 2\u001b[1;36m\u001b[0m\n\u001b[1;33m    print(!userage)\u001b[0m\n\u001b[1;37m          ^\u001b[0m\n\u001b[1;31mSyntaxError\u001b[0m\u001b[1;31m:\u001b[0m invalid syntax\n"
     ]
    }
   ],
   "source": [
    "!userage = \"25\"\n",
    "print(!userage)"
   ]
  },
  {
   "cell_type": "code",
   "execution_count": 1,
   "id": "c7ab7f40-104d-48d3-9925-7044fc1fbd7b",
   "metadata": {},
   "outputs": [
    {
     "ename": "SyntaxError",
     "evalue": "cannot assign to expression here. Maybe you meant '==' instead of '='? (767258097.py, line 1)",
     "output_type": "error",
     "traceback": [
      "\u001b[1;36m  Cell \u001b[1;32mIn[1], line 1\u001b[1;36m\u001b[0m\n\u001b[1;33m    user-height_= \"5.7\"\u001b[0m\n\u001b[1;37m    ^\u001b[0m\n\u001b[1;31mSyntaxError\u001b[0m\u001b[1;31m:\u001b[0m cannot assign to expression here. Maybe you meant '==' instead of '='?\n"
     ]
    }
   ],
   "source": [
    "user-height_= \"5.7\"\n",
    "print(user-height_)"
   ]
  },
  {
   "cell_type": "code",
   "execution_count": 146,
   "id": "14f32b36-c370-4190-9310-1583754e1371",
   "metadata": {},
   "outputs": [
    {
     "ename": "SyntaxError",
     "evalue": "invalid syntax (2946541170.py, line 1)",
     "output_type": "error",
     "traceback": [
      "\u001b[1;36m  Cell \u001b[1;32mIn[146], line 1\u001b[1;36m\u001b[0m\n\u001b[1;33m    if = \"Farooq\"\u001b[0m\n\u001b[1;37m       ^\u001b[0m\n\u001b[1;31mSyntaxError\u001b[0m\u001b[1;31m:\u001b[0m invalid syntax\n"
     ]
    }
   ],
   "source": [
    "if = \"Farooq\"\n",
    "print(if)"
   ]
  },
  {
   "cell_type": "code",
   "execution_count": 148,
   "id": "aab8b42c-1718-455d-abb2-09057f8c5c7b",
   "metadata": {},
   "outputs": [
    {
     "ename": "SyntaxError",
     "evalue": "invalid syntax (528523375.py, line 1)",
     "output_type": "error",
     "traceback": [
      "\u001b[1;36m  Cell \u001b[1;32mIn[148], line 1\u001b[1;36m\u001b[0m\n\u001b[1;33m    while = \"Mohammed\"\u001b[0m\n\u001b[1;37m          ^\u001b[0m\n\u001b[1;31mSyntaxError\u001b[0m\u001b[1;31m:\u001b[0m invalid syntax\n"
     ]
    }
   ],
   "source": [
    "while = \"Mohammed\"\n",
    "print(while)"
   ]
  },
  {
   "cell_type": "code",
   "execution_count": 162,
   "id": "9dd60458-2310-4a8a-99e6-24880c187dca",
   "metadata": {},
   "outputs": [
    {
     "ename": "SyntaxError",
     "evalue": "cannot assign to False (3195226362.py, line 1)",
     "output_type": "error",
     "traceback": [
      "\u001b[1;36m  Cell \u001b[1;32mIn[162], line 1\u001b[1;36m\u001b[0m\n\u001b[1;33m    False = \"Umar Farooq\"\u001b[0m\n\u001b[1;37m    ^\u001b[0m\n\u001b[1;31mSyntaxError\u001b[0m\u001b[1;31m:\u001b[0m cannot assign to False\n"
     ]
    }
   ],
   "source": [
    "False = \"Umar Farooq\"\n",
    "print(False)"
   ]
  },
  {
   "cell_type": "code",
   "execution_count": 156,
   "id": "1cabe58d-5dd9-40c3-9d1a-2db67f8c51df",
   "metadata": {},
   "outputs": [
    {
     "ename": "SyntaxError",
     "evalue": "invalid syntax (3974533389.py, line 1)",
     "output_type": "error",
     "traceback": [
      "\u001b[1;36m  Cell \u001b[1;32mIn[156], line 1\u001b[1;36m\u001b[0m\n\u001b[1;33m    def = \"Data Science\"\u001b[0m\n\u001b[1;37m        ^\u001b[0m\n\u001b[1;31mSyntaxError\u001b[0m\u001b[1;31m:\u001b[0m invalid syntax\n"
     ]
    }
   ],
   "source": [
    "def = \"Data Science\"\n",
    "print(def)"
   ]
  },
  {
   "cell_type": "code",
   "execution_count": 166,
   "id": "56140a0f-bde8-4dfa-9722-b8ca927558d6",
   "metadata": {},
   "outputs": [
    {
     "ename": "SyntaxError",
     "evalue": "invalid decimal literal (3737524119.py, line 1)",
     "output_type": "error",
     "traceback": [
      "\u001b[1;36m  Cell \u001b[1;32mIn[166], line 1\u001b[1;36m\u001b[0m\n\u001b[1;33m    1stInt = \"35\"\u001b[0m\n\u001b[1;37m    ^\u001b[0m\n\u001b[1;31mSyntaxError\u001b[0m\u001b[1;31m:\u001b[0m invalid decimal literal\n"
     ]
    }
   ],
   "source": [
    "1stInt = \"35\"\n",
    "print(1stInt)"
   ]
  },
  {
   "cell_type": "code",
   "execution_count": 168,
   "id": "2e806096-4b1d-4727-82bf-c8cfeef28eaf",
   "metadata": {},
   "outputs": [
    {
     "ename": "SyntaxError",
     "evalue": "cannot assign to literal (168227302.py, line 1)",
     "output_type": "error",
     "traceback": [
      "\u001b[1;36m  Cell \u001b[1;32mIn[168], line 1\u001b[1;36m\u001b[0m\n\u001b[1;33m    a = b = 10 = 10\u001b[0m\n\u001b[1;37m            ^\u001b[0m\n\u001b[1;31mSyntaxError\u001b[0m\u001b[1;31m:\u001b[0m cannot assign to literal\n"
     ]
    }
   ],
   "source": [
    "a = b = 10 = 10\n",
    "print(a)\n",
    "print(b)\n",
    "print(10)"
   ]
  },
  {
   "cell_type": "code",
   "execution_count": 170,
   "id": "77411e66-e2ee-47fe-9b33-d350587bcbc1",
   "metadata": {},
   "outputs": [
    {
     "ename": "SyntaxError",
     "evalue": "invalid syntax (1821304119.py, line 1)",
     "output_type": "error",
     "traceback": [
      "\u001b[1;36m  Cell \u001b[1;32mIn[170], line 1\u001b[1;36m\u001b[0m\n\u001b[1;33m    first_name! = middle_name = last_name = \"Mohammed Umar Farooq\"\u001b[0m\n\u001b[1;37m              ^\u001b[0m\n\u001b[1;31mSyntaxError\u001b[0m\u001b[1;31m:\u001b[0m invalid syntax\n"
     ]
    }
   ],
   "source": [
    "first_name! = middle_name = last_name = \"Mohammed Umar Farooq\"\n",
    "print(first_name!)\n",
    "print(middle_name)\n",
    "print(last_name)"
   ]
  },
  {
   "cell_type": "code",
   "execution_count": 172,
   "id": "3a08fada-b4da-46a0-bacb-31e794b0de14",
   "metadata": {},
   "outputs": [
    {
     "ename": "SyntaxError",
     "evalue": "invalid syntax. Maybe you meant '==' or ':=' instead of '='? (1603633642.py, line 1)",
     "output_type": "error",
     "traceback": [
      "\u001b[1;36m  Cell \u001b[1;32mIn[172], line 1\u001b[1;36m\u001b[0m\n\u001b[1;33m    @user1 = \"John\"\u001b[0m\n\u001b[1;37m     ^\u001b[0m\n\u001b[1;31mSyntaxError\u001b[0m\u001b[1;31m:\u001b[0m invalid syntax. Maybe you meant '==' or ':=' instead of '='?\n"
     ]
    }
   ],
   "source": [
    "@user1 = \"John\"\n",
    "print(@user1)"
   ]
  },
  {
   "cell_type": "code",
   "execution_count": 174,
   "id": "5fc22d79-3fed-4399-ae53-7c9f76699c76",
   "metadata": {},
   "outputs": [
    {
     "ename": "SyntaxError",
     "evalue": "invalid decimal literal (1495601260.py, line 1)",
     "output_type": "error",
     "traceback": [
      "\u001b[1;36m  Cell \u001b[1;32mIn[174], line 1\u001b[1;36m\u001b[0m\n\u001b[1;33m    2user_1 = \"James\"\u001b[0m\n\u001b[1;37m    ^\u001b[0m\n\u001b[1;31mSyntaxError\u001b[0m\u001b[1;31m:\u001b[0m invalid decimal literal\n"
     ]
    }
   ],
   "source": [
    "2user_1 = \"James\"\n",
    "print(2user_1)"
   ]
  },
  {
   "cell_type": "code",
   "execution_count": 176,
   "id": "b0ed1d83-3ff2-4fa5-a0c7-d9deffa7e0fe",
   "metadata": {},
   "outputs": [
    {
     "ename": "SyntaxError",
     "evalue": "cannot assign to expression here. Maybe you meant '==' instead of '='? (2108568984.py, line 1)",
     "output_type": "error",
     "traceback": [
      "\u001b[1;36m  Cell \u001b[1;32mIn[176], line 1\u001b[1;36m\u001b[0m\n\u001b[1;33m    user1&user2 = \"John and James\"\u001b[0m\n\u001b[1;37m    ^\u001b[0m\n\u001b[1;31mSyntaxError\u001b[0m\u001b[1;31m:\u001b[0m cannot assign to expression here. Maybe you meant '==' instead of '='?\n"
     ]
    }
   ],
   "source": [
    "user1&user2 = \"John and James\"\n",
    "print(user1&user2)"
   ]
  },
  {
   "cell_type": "code",
   "execution_count": 178,
   "id": "6446b96a-b518-4974-a81e-ba2a8cc3833a",
   "metadata": {},
   "outputs": [
    {
     "ename": "SyntaxError",
     "evalue": "invalid decimal literal (2385842105.py, line 1)",
     "output_type": "error",
     "traceback": [
      "\u001b[1;36m  Cell \u001b[1;32mIn[178], line 1\u001b[1;36m\u001b[0m\n\u001b[1;33m    1_user1 = \"Charles\"\u001b[0m\n\u001b[1;37m     ^\u001b[0m\n\u001b[1;31mSyntaxError\u001b[0m\u001b[1;31m:\u001b[0m invalid decimal literal\n"
     ]
    }
   ],
   "source": [
    "1_user1 = \"Charles\"\n",
    "print(1_user1)"
   ]
  },
  {
   "cell_type": "code",
   "execution_count": 180,
   "id": "a3297526-80d2-4814-b314-4df4a71f2028",
   "metadata": {},
   "outputs": [
    {
     "ename": "SyntaxError",
     "evalue": "invalid syntax (3009976359.py, line 1)",
     "output_type": "error",
     "traceback": [
      "\u001b[1;36m  Cell \u001b[1;32mIn[180], line 1\u001b[1;36m\u001b[0m\n\u001b[1;33m    _user 1 = \"Smith\"\u001b[0m\n\u001b[1;37m          ^\u001b[0m\n\u001b[1;31mSyntaxError\u001b[0m\u001b[1;31m:\u001b[0m invalid syntax\n"
     ]
    }
   ],
   "source": [
    "_user 1 = \"Smith\"\n",
    "print(_user 1)"
   ]
  },
  {
   "cell_type": "code",
   "execution_count": 182,
   "id": "7acdb0b0-0b44-4670-a78f-9adcfc5c7843",
   "metadata": {},
   "outputs": [
    {
     "ename": "SyntaxError",
     "evalue": "cannot assign to expression here. Maybe you meant '==' instead of '='? (2042767507.py, line 1)",
     "output_type": "error",
     "traceback": [
      "\u001b[1;36m  Cell \u001b[1;32mIn[182], line 1\u001b[1;36m\u001b[0m\n\u001b[1;33m    user-id = \"24568\"\u001b[0m\n\u001b[1;37m    ^\u001b[0m\n\u001b[1;31mSyntaxError\u001b[0m\u001b[1;31m:\u001b[0m cannot assign to expression here. Maybe you meant '==' instead of '='?\n"
     ]
    }
   ],
   "source": [
    "user-id = \"24568\"\n",
    "print(user-id)"
   ]
  },
  {
   "cell_type": "code",
   "execution_count": 184,
   "id": "4b15f736-705c-4033-bbff-a44013964b6d",
   "metadata": {},
   "outputs": [
    {
     "ename": "SyntaxError",
     "evalue": "invalid syntax. Maybe you meant '==' or ':=' instead of '='? (1029131936.py, line 1)",
     "output_type": "error",
     "traceback": [
      "\u001b[1;36m  Cell \u001b[1;32mIn[184], line 1\u001b[1;36m\u001b[0m\n\u001b[1;33m    10, y, z = \"John\",\"Charles\",\"James\"\u001b[0m\n\u001b[1;37m           ^\u001b[0m\n\u001b[1;31mSyntaxError\u001b[0m\u001b[1;31m:\u001b[0m invalid syntax. Maybe you meant '==' or ':=' instead of '='?\n"
     ]
    }
   ],
   "source": [
    "10, y, z = \"John\",\"Charles\",\"James\"\n",
    "print(10)\n",
    "print(y)\n",
    "print(z)"
   ]
  },
  {
   "cell_type": "code",
   "execution_count": 186,
   "id": "3191c5ec-effe-460b-b826-f35510486e73",
   "metadata": {},
   "outputs": [
    {
     "ename": "SyntaxError",
     "evalue": "invalid syntax (3071341627.py, line 1)",
     "output_type": "error",
     "traceback": [
      "\u001b[1;36m  Cell \u001b[1;32mIn[186], line 1\u001b[1;36m\u001b[0m\n\u001b[1;33m    user.1 = user_2 = _user_3 = 10\u001b[0m\n\u001b[1;37m        ^\u001b[0m\n\u001b[1;31mSyntaxError\u001b[0m\u001b[1;31m:\u001b[0m invalid syntax\n"
     ]
    }
   ],
   "source": [
    "user.1 = user_2 = _user_3 = 10\n",
    "print(user.1)\n",
    "print(user_2)\n",
    "print(_user_3)"
   ]
  },
  {
   "cell_type": "code",
   "execution_count": 188,
   "id": "aeecf4d1-c73d-4782-a016-63026a49bd03",
   "metadata": {},
   "outputs": [
    {
     "ename": "SyntaxError",
     "evalue": "invalid decimal literal (2276286845.py, line 1)",
     "output_type": "error",
     "traceback": [
      "\u001b[1;36m  Cell \u001b[1;32mIn[188], line 1\u001b[1;36m\u001b[0m\n\u001b[1;33m    1a = \"Apple\"\u001b[0m\n\u001b[1;37m    ^\u001b[0m\n\u001b[1;31mSyntaxError\u001b[0m\u001b[1;31m:\u001b[0m invalid decimal literal\n"
     ]
    }
   ],
   "source": [
    "1a = \"Apple\"\n",
    "print(1a)"
   ]
  },
  {
   "cell_type": "code",
   "execution_count": null,
   "id": "1fdd73ab-fecd-473f-a4fa-3de6f3ecd25a",
   "metadata": {},
   "outputs": [],
   "source": []
  }
 ],
 "metadata": {
  "kernelspec": {
   "display_name": "Python 3 (ipykernel)",
   "language": "python",
   "name": "python3"
  },
  "language_info": {
   "codemirror_mode": {
    "name": "ipython",
    "version": 3
   },
   "file_extension": ".py",
   "mimetype": "text/x-python",
   "name": "python",
   "nbconvert_exporter": "python",
   "pygments_lexer": "ipython3",
   "version": "3.12.4"
  }
 },
 "nbformat": 4,
 "nbformat_minor": 5
}
