{
 "cells": [
  {
   "cell_type": "markdown",
   "id": "55cd69a0-b94a-4623-b325-434361b31a09",
   "metadata": {},
   "source": [
    "## Data Types:\n",
    "\n",
    "#### What is Data Type in python?\n",
    "\n",
    "-- _Python data types are actually classes, and the defined variables are their instances or objects. Since Python is dynamically typed, the data type of a variable is determined at runtime based on the assigned value._\n",
    "\n",
    "-- _In general, the data types are used to define the type of a variable. It represents the type of data we are going to store in a variable and determines what operations can be done on it._\n",
    "\n",
    "-- _Each programming language has its own classification of data items. With these datatypes, we can store different types of data values._\n",
    "\n",
    "\n"
   ]
  },
  {
   "cell_type": "markdown",
   "id": "1893940e-d757-49fd-8ff1-1650d5109958",
   "metadata": {},
   "source": [
    "__There are two types of Data Types:__\n",
    "\n",
    "__1. Basic Data Types.__\n",
    "   * __int:__ _Int, or integer, is a whole number, positive or negative, without decimals, of unlimited length._\n",
    "   * __float:__ _Floating point numbers are decimal values or fractional numbers._\n",
    "   * __boolean:__ _The boolean data type is either True or False. In Python, boolean variables are defined by the True and False keywords._\n",
    "     * __Note:__ _The keywords True and False must have an Upper Case first letter._\n",
    "   * __complex:__ _The complex data type in python consists of two values, the first one is the real part of the complex number, and the second one is the imaginary part of the complex number. We usually denote the real part using i and the imaginary part with j_\n",
    "\n",
    "__2. Advance Data Types.__\n",
    "   * list\n",
    "   * string\n",
    "   * tuple\n",
    "   * dictionary\n",
    "   * set\n"
   ]
  },
  {
   "cell_type": "markdown",
   "id": "79f9ebb8-539a-4db5-97f2-55554a1171d4",
   "metadata": {},
   "source": [
    "## Variables are of which Data Type?"
   ]
  },
  {
   "cell_type": "code",
   "execution_count": 91,
   "id": "7676cfba-2484-4966-a6bd-809810f3694c",
   "metadata": {},
   "outputs": [
    {
     "name": "stdout",
     "output_type": "stream",
     "text": [
      "The type of variable have value True is <class 'bool'>\n",
      "The type of variable have value 5 is <class 'int'>\n",
      "The type of variable have value 32.3 is <class 'float'>\n",
      "The type of variable have value (3+14j) is <class 'complex'>\n",
      "The type of variable have value False is <class 'bool'>\n",
      "The type of variable have value 10 is <class 'int'>\n",
      "The type of variable have value 0.0 is <class 'float'>\n",
      "The type of variable have value (-0-0.14j) is <class 'complex'>\n"
     ]
    }
   ],
   "source": [
    "# This program shows Variable is of which type()\n",
    "a=True\n",
    "b=5\n",
    "c=32.3\n",
    "d=3+14j\n",
    "e=False\n",
    "f=10\n",
    "g=0.0\n",
    "h=-.14j\n",
    "print(\"The type of variable have value\", a, \"is\", type(a))\n",
    "print(\"The type of variable have value\", b, \"is\", type(b))\n",
    "print(\"The type of variable have value\", c, \"is\", type(c))\n",
    "print(\"The type of variable have value\", d, \"is\", type(d))\n",
    "print(\"The type of variable have value\", e, \"is\", type(e))\n",
    "print(\"The type of variable have value\", f, \"is\", type(f))\n",
    "print(\"The type of variable have value\", g, \"is\", type(g))\n",
    "print(\"The type of variable have value\", h, \"is\", type(h))"
   ]
  },
  {
   "cell_type": "code",
   "execution_count": 62,
   "id": "696e9e7d-8194-472c-95c2-77cae2f42ed6",
   "metadata": {},
   "outputs": [
    {
     "name": "stdout",
     "output_type": "stream",
     "text": [
      "True\n",
      "False\n",
      "True\n",
      "False\n"
     ]
    }
   ],
   "source": [
    "#Boolean Data Type:\n",
    "print(1<9)\n",
    "x=0\n",
    "print(bool(x))\n",
    "print(10>2)\n",
    "print(1==2)"
   ]
  },
  {
   "cell_type": "markdown",
   "id": "896d7a5f-7c8e-474e-9e3d-4220acd20885",
   "metadata": {},
   "source": [
    "## Conversion of one Data Type to another Data Type:"
   ]
  },
  {
   "cell_type": "code",
   "execution_count": 86,
   "id": "6df1307a-673d-468a-b2a2-a15a6c2b1017",
   "metadata": {},
   "outputs": [
    {
     "name": "stdout",
     "output_type": "stream",
     "text": [
      "5.0\n",
      "(5+0j)\n",
      "99\n",
      "(99.55+0j)\n"
     ]
    }
   ],
   "source": [
    "x=5\n",
    "y=99.55\n",
    "z=6+4j\n",
    "\n",
    "#convert int to float\n",
    "a=float(x)\n",
    "\n",
    "#convert int to complex\n",
    "b=complex(x)\n",
    "\n",
    "#convert float to int\n",
    "c=int(y)\n",
    "\n",
    "#convert float to complex\n",
    "d=complex(y)\n",
    "\n",
    "print(a)\n",
    "print(b)\n",
    "print(c)\n",
    "print(d)"
   ]
  },
  {
   "cell_type": "markdown",
   "id": "d2ee43c0-dbe5-4f8e-b487-c77118db578e",
   "metadata": {},
   "source": [
    "__Complex data type cannot be converted into any other data type.__"
   ]
  },
  {
   "cell_type": "code",
   "execution_count": 89,
   "id": "2bddffa7-007b-412d-8399-687e1a1d31cf",
   "metadata": {},
   "outputs": [
    {
     "ename": "TypeError",
     "evalue": "int() argument must be a string, a bytes-like object or a real number, not 'complex'",
     "output_type": "error",
     "traceback": [
      "\u001b[1;31m---------------------------------------------------------------------------\u001b[0m",
      "\u001b[1;31mTypeError\u001b[0m                                 Traceback (most recent call last)",
      "Cell \u001b[1;32mIn[89], line 4\u001b[0m\n\u001b[0;32m      1\u001b[0m \u001b[38;5;66;03m#Conversion of complex to int\u001b[39;00m\n\u001b[0;32m      2\u001b[0m x\u001b[38;5;241m=\u001b[39m\u001b[38;5;241m10\u001b[39m\u001b[38;5;241m+\u001b[39m\u001b[38;5;241m5\u001b[39mj\n\u001b[1;32m----> 4\u001b[0m a\u001b[38;5;241m=\u001b[39m\u001b[38;5;28mint\u001b[39m(x)\n\u001b[0;32m      5\u001b[0m \u001b[38;5;28mprint\u001b[39m(a)\n",
      "\u001b[1;31mTypeError\u001b[0m: int() argument must be a string, a bytes-like object or a real number, not 'complex'"
     ]
    }
   ],
   "source": [
    "#Conversion of complex to int\n",
    "x=10+5j\n",
    "\n",
    "a=int(x)\n",
    "print(a)"
   ]
  },
  {
   "cell_type": "code",
   "execution_count": null,
   "id": "18402a95-99b0-4740-b97b-985396d8bd82",
   "metadata": {},
   "outputs": [],
   "source": []
  }
 ],
 "metadata": {
  "kernelspec": {
   "display_name": "Python 3 (ipykernel)",
   "language": "python",
   "name": "python3"
  },
  "language_info": {
   "codemirror_mode": {
    "name": "ipython",
    "version": 3
   },
   "file_extension": ".py",
   "mimetype": "text/x-python",
   "name": "python",
   "nbconvert_exporter": "python",
   "pygments_lexer": "ipython3",
   "version": "3.12.4"
  }
 },
 "nbformat": 4,
 "nbformat_minor": 5
}
