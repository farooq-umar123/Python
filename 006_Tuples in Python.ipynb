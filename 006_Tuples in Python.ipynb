{
 "cells": [
  {
   "cell_type": "markdown",
   "id": "4be640aa-ed54-4381-8ffc-0f36dc0e10d2",
   "metadata": {},
   "source": [
    "## __Tuples in Python:__\n",
    "\n",
    "- _A tuple is a collection which is ordered and unchangeable._\n",
    "- _Tuples are used to store multiple items in a single variable._\n",
    "- _Tuples are similar to lists, but the difference is tples cannot be modified once created._\n",
    "- _Tuple is one of 4 built-in data types in Python used to store collections of data, the other 3 are List, Set, and Dictionary, all with different qualities and usage._\n",
    "- _Tuples are defined by __parentheses( )__ and the elements are seperated by __commas (,)___ "
   ]
  },
  {
   "cell_type": "markdown",
   "id": "e74417b5-b5f3-447f-a0f3-9b037a8bdaa8",
   "metadata": {},
   "source": [
    "__`Examples of Creating Tuple:`__"
   ]
  },
  {
   "cell_type": "code",
   "execution_count": 39,
   "id": "fc760528-6787-4100-985d-8de97be1b3c9",
   "metadata": {},
   "outputs": [
    {
     "name": "stdout",
     "output_type": "stream",
     "text": [
      "('Mercedes', 'BMW', 'Audi', 'Volvo') <class 'tuple'>\n",
      "(1.1, 2.5, 3.8, 9.5) <class 'tuple'>\n",
      "(1, 2, 3, 4) <class 'tuple'>\n",
      "(True, False, True) <class 'tuple'>\n",
      "(1, 'Apple', 9.6, (1+8j), True) <class 'tuple'>\n",
      "<class 'tuple'>\n",
      "<class 'int'>\n",
      "<class 'tuple'>\n",
      "<class 'bool'>\n",
      "<class 'tuple'>\n",
      "<class 'float'>\n"
     ]
    }
   ],
   "source": [
    "#Tuple with string data type as elements\n",
    "\n",
    "cars = ('Mercedes', 'BMW', 'Audi', 'Volvo')\n",
    "print(cars, type(cars))\n",
    "\n",
    "#Tuple with float data type as elements\n",
    "\n",
    "decimal = (1.1, 2.5, 3.8, 9.5)\n",
    "print(decimal, type(decimal))\n",
    "\n",
    "#Tuple with int data type as elements\n",
    "\n",
    "number = (1, 2, 3, 4)\n",
    "print(number, type(number))\n",
    "\n",
    "#Tuple with boolean data type\n",
    "\n",
    "bool = (5>2, 6<4, 9<=10)\n",
    "print(bool, type(bool))\n",
    "\n",
    "#Tuple with mixed data type as elements\n",
    "\n",
    "mixed_data = (1, 'Apple', 9.6, 1+8j, 5>2)\n",
    "print(mixed_data, type(mixed_data))\n",
    "\n",
    "#single element Tuple\n",
    "\n",
    "#for single element comma, has to be given after the element then the compiler will print output as <class 'tuple'>\n",
    "# or else the output will be based on the element data type\n",
    "\n",
    "#single element using number\n",
    "single_num = (10,) # here comma has been given after element output is 'tuple'\n",
    "print(type(single_num))\n",
    "single_num1 = (10) # here comma has not been given after element output is 'int'\n",
    "print(type(single_num1))\n",
    "\n",
    "#single element using boolean\n",
    "single_bool = (5>2,) # here comma has been given after element output is 'tuple'\n",
    "print(type(single_bool))\n",
    "single_bool1 = (5>2) # here comma has not been given after element output is 'bool'\n",
    "print(type(single_bool1))\n",
    "\n",
    "#single element using float\n",
    "single_float = (8.5,) # here comma has been given after element output is 'tuple'\n",
    "print(type(single_float))\n",
    "single_float1 = (8.5) # here comma has not been given after element output is 'float'\n",
    "print(type(single_float1))\n"
   ]
  },
  {
   "cell_type": "markdown",
   "id": "550d4f71-e949-42df-8329-a4a773f2031e",
   "metadata": {},
   "source": [
    "### __Accessing of Tuples:__\n",
    "\n",
    "- _Tuples support indexing and slicing just like lists._\n",
    "\n",
    "__- Indexing:__\n",
    "\n",
    "- _We can access individual elements of a tuple using indexing._\n",
    "- _For example, if we have a tuple `tup` with three elements, we can access the first element using `tup[0]`, the second element using `tup[1]`, and the third element using `tup[2]`._\n",
    "\n",
    "__- Slicing:__\n",
    "\n",
    "- _Slicing is the extraction of a part of a string, list, or tuple._\n",
    "- _It enables users to access the specific range of elements by mentioning their indices._"
   ]
  },
  {
   "cell_type": "code",
   "execution_count": 68,
   "id": "66367fe5-352e-4b98-9835-4f79e10c74d5",
   "metadata": {},
   "outputs": [
    {
     "name": "stdout",
     "output_type": "stream",
     "text": [
      "[1, 2, 3, 4, 5, 6, 7, 8, 9, 0]\n",
      "5\n",
      "[5, 6, 7, 8]\n"
     ]
    }
   ],
   "source": [
    "#Accessing elements using index and slicing\n",
    "\n",
    "a = [1, 2, 3, 4, 5, 6, 7, 8, 9, 0]\n",
    "print(a)\n",
    "#example using index\n",
    "print(a[4])\n",
    "\n",
    "#example using slicing\n",
    "print(a[4:8])"
   ]
  },
  {
   "cell_type": "markdown",
   "id": "26e59678-3eba-46a8-ad6d-9faa4f2d3b7c",
   "metadata": {},
   "source": [
    "### __Immutability:__\n",
    "\n",
    "- _Immutability in Python tuples means that once a tuple is created, its contents cannot be changed or add or removed._\n",
    "- _This is a key difference between tuples and other Python data structures, such as lists and dictionaries, which are mutable and can be modified after creation._\n",
    "\n",
    "__`Examples:`__"
   ]
  },
  {
   "cell_type": "code",
   "execution_count": 82,
   "id": "c958d20f-0552-4703-844f-6c375424338e",
   "metadata": {},
   "outputs": [
    {
     "ename": "TypeError",
     "evalue": "'tuple' object does not support item assignment",
     "output_type": "error",
     "traceback": [
      "\u001b[1;31m---------------------------------------------------------------------------\u001b[0m",
      "\u001b[1;31mTypeError\u001b[0m                                 Traceback (most recent call last)",
      "Cell \u001b[1;32mIn[82], line 3\u001b[0m\n\u001b[0;32m      1\u001b[0m \u001b[38;5;66;03m#using string\u001b[39;00m\n\u001b[0;32m      2\u001b[0m fruits \u001b[38;5;241m=\u001b[39m (\u001b[38;5;124m'\u001b[39m\u001b[38;5;124mapple\u001b[39m\u001b[38;5;124m'\u001b[39m, \u001b[38;5;124m'\u001b[39m\u001b[38;5;124mmango\u001b[39m\u001b[38;5;124m'\u001b[39m, \u001b[38;5;124m'\u001b[39m\u001b[38;5;124mkiwi\u001b[39m\u001b[38;5;124m'\u001b[39m, \u001b[38;5;124m'\u001b[39m\u001b[38;5;124mpears\u001b[39m\u001b[38;5;124m'\u001b[39m)\n\u001b[1;32m----> 3\u001b[0m fruits[\u001b[38;5;241m2\u001b[39m] \u001b[38;5;241m=\u001b[39m \u001b[38;5;124m'\u001b[39m\u001b[38;5;124morange\u001b[39m\u001b[38;5;124m'\u001b[39m\n\u001b[0;32m      4\u001b[0m \u001b[38;5;28mprint\u001b[39m(fruits)\n\u001b[0;32m      6\u001b[0m \u001b[38;5;66;03m#using int\u001b[39;00m\n",
      "\u001b[1;31mTypeError\u001b[0m: 'tuple' object does not support item assignment"
     ]
    }
   ],
   "source": [
    "#using string\n",
    "fruits = ('apple', 'mango', 'kiwi', 'pears')\n",
    "fruits[2] = 'orange'\n",
    "print(fruits)"
   ]
  },
  {
   "cell_type": "code",
   "execution_count": 86,
   "id": "e43aa42b-54de-4965-9599-f8fb954571c0",
   "metadata": {},
   "outputs": [
    {
     "ename": "TypeError",
     "evalue": "'tuple' object does not support item assignment",
     "output_type": "error",
     "traceback": [
      "\u001b[1;31m---------------------------------------------------------------------------\u001b[0m",
      "\u001b[1;31mTypeError\u001b[0m                                 Traceback (most recent call last)",
      "Cell \u001b[1;32mIn[86], line 3\u001b[0m\n\u001b[0;32m      1\u001b[0m \u001b[38;5;66;03m#using int\u001b[39;00m\n\u001b[0;32m      2\u001b[0m numbers \u001b[38;5;241m=\u001b[39m (\u001b[38;5;241m1\u001b[39m, \u001b[38;5;241m2\u001b[39m, \u001b[38;5;241m3\u001b[39m, \u001b[38;5;241m4\u001b[39m)\n\u001b[1;32m----> 3\u001b[0m numbers[\u001b[38;5;241m2\u001b[39m] \u001b[38;5;241m=\u001b[39m \u001b[38;5;241m5\u001b[39m\n\u001b[0;32m      4\u001b[0m \u001b[38;5;28mprint\u001b[39m(numbers)\n",
      "\u001b[1;31mTypeError\u001b[0m: 'tuple' object does not support item assignment"
     ]
    }
   ],
   "source": [
    "#using int\n",
    "numbers = (1, 2, 3, 4)\n",
    "numbers[2] = 5\n",
    "print(numbers)"
   ]
  },
  {
   "cell_type": "markdown",
   "id": "2d7b6672-cc1e-42de-bcce-c4ddbc8d3e4f",
   "metadata": {},
   "source": [
    "### __Tuple Operations:__\n",
    "\n",
    "__1. Concatenation:__\n",
    "\n",
    "- _Combining two tuples._\n",
    "- _It is defined by `plus +`._\n",
    "\n",
    "__`Example:`__ "
   ]
  },
  {
   "cell_type": "code",
   "execution_count": 95,
   "id": "2482fca6-4c5e-4b81-8c15-2ecab940fd18",
   "metadata": {},
   "outputs": [
    {
     "name": "stdout",
     "output_type": "stream",
     "text": [
      "(1, 4, 3, 'One', 'Four', 'Three')\n"
     ]
    }
   ],
   "source": [
    "num = (1, 4, 3)\n",
    "words = ('One', 'Four', 'Three')\n",
    "num_words = num + words\n",
    "print(num_words)"
   ]
  },
  {
   "cell_type": "markdown",
   "id": "89d5f4fb-8af3-4b10-81e8-08a750290583",
   "metadata": {},
   "source": [
    "__2. Repetition:__\n",
    "\n",
    "- _The repetition duplicates a tuple and links all of them together._\n",
    "- _The `*` symbol is commonly used to indicate multiplication, however, it becomes the repetition operator when the operand on the left side of the `*` is a tuple._\n",
    "\n",
    "__`Example:`__ "
   ]
  },
  {
   "cell_type": "code",
   "execution_count": 98,
   "id": "091b384b-0230-40a9-8e6a-095f367789ed",
   "metadata": {},
   "outputs": [
    {
     "name": "stdout",
     "output_type": "stream",
     "text": [
      "(5, 6, 9, 2, 5, 6, 9, 2, 5, 6, 9, 2, 5, 6, 9, 2, 5, 6, 9, 2)\n"
     ]
    }
   ],
   "source": [
    "a = (5, 6, 9, 2)\n",
    "rpt_a = a * 5\n",
    "print(rpt_a)"
   ]
  },
  {
   "cell_type": "markdown",
   "id": "687068a0-bb7b-4232-aa63-849c1683b5bb",
   "metadata": {},
   "source": [
    "### __Tuple Methods:__\n",
    "\n",
    "- _Tuple has limited methods compared to lists due to their immutability._\n",
    "\n",
    "__1. count()__\n",
    "  - _Returns the number of occurance of a specified value._"
   ]
  },
  {
   "cell_type": "code",
   "execution_count": 103,
   "id": "c519acdc-a530-4748-ab05-b48d3c737a02",
   "metadata": {},
   "outputs": [
    {
     "name": "stdout",
     "output_type": "stream",
     "text": [
      "4\n",
      "2\n"
     ]
    }
   ],
   "source": [
    "num = (1, 5, 2, 3, 4, 8, 9, 5, 4, 1, 2, 5, 6, 2, 4, 5, 8, 7, 6)\n",
    "num_count = num.count(5)\n",
    "print(num_count)\n",
    "\n",
    "cars = ('Audi', 'BMW', 'Audi', 'Benz', 'Volvo', 'audi')\n",
    "cars_count = cars.count('Audi')\n",
    "print(cars_count)"
   ]
  },
  {
   "cell_type": "markdown",
   "id": "45efa5a1-373e-4433-b691-439ff2205ac1",
   "metadata": {},
   "source": [
    "__2. index()__\n",
    "\n",
    "- _Returns the index for first occurence of specified element or value._"
   ]
  },
  {
   "cell_type": "code",
   "execution_count": 117,
   "id": "2c46918a-f4d5-48ab-a8e1-7a8b6280c92c",
   "metadata": {},
   "outputs": [
    {
     "name": "stdout",
     "output_type": "stream",
     "text": [
      "5\n",
      "0\n"
     ]
    }
   ],
   "source": [
    "num = (1, 5, 2, 3, 8, 4, 9, 5, 4, 1, 2, 5, 6, 2, 4, 5, 8, 7, 6)\n",
    "num_index = num.index(4)\n",
    "print(num_index)\n",
    "\n",
    "cars = ('Audi', 'BMW', 'Audi', 'Benz', 'Volvo', 'audi')\n",
    "cars_index = cars.index('Audi')\n",
    "print(cars_index)"
   ]
  },
  {
   "cell_type": "code",
   "execution_count": null,
   "id": "169055e3-4d45-44dd-8b23-3e2056309fbb",
   "metadata": {},
   "outputs": [],
   "source": []
  }
 ],
 "metadata": {
  "kernelspec": {
   "display_name": "Python 3 (ipykernel)",
   "language": "python",
   "name": "python3"
  },
  "language_info": {
   "codemirror_mode": {
    "name": "ipython",
    "version": 3
   },
   "file_extension": ".py",
   "mimetype": "text/x-python",
   "name": "python",
   "nbconvert_exporter": "python",
   "pygments_lexer": "ipython3",
   "version": "3.12.4"
  }
 },
 "nbformat": 4,
 "nbformat_minor": 5
}
